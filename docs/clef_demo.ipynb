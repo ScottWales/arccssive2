{
 "cells": [
  {
   "cell_type": "markdown",
   "metadata": {},
   "source": [
    "# Using CleF - Climate Finder to discover ESGF data at NCI"
   ]
  },
  {
   "cell_type": "markdown",
   "metadata": {},
   "source": [
    "This notebook shows examples of how to use the CleF (Climate Finder) python module to search for ESGF data on the NCI server. <br>\n",
    "Currently the tool is set up for CMIP5 and CMIP6 data, but other ESGF dataset like CORDEX will be available in the future. <br> \n",
    "\n",
    "CleF is currently installed in the CMS conda module analysis3, or analysis3-unsatble for the latest version. This is managed by the CMS and is available simply by running\n",
    "  >  module use /g/data3/hh5/public/modules <br>\n",
    "  >  module load conda/analysis3\n",
    "  \n",
    "You could use the module interactively, for the moment we will use its command line options. <br>\n",
    "Let's start!"
   ]
  },
  {
   "cell_type": "markdown",
   "metadata": {},
   "source": [
    "## Command syntax"
   ]
  },
  {
   "cell_type": "code",
   "execution_count": null,
   "metadata": {},
   "outputs": [],
   "source": [
    "# run this if you haven't done so already in the terminal\n",
    "#!module use /g/data3/hh5/public/modules\n",
    "#!module load conda/analysis3-unstable"
   ]
  },
  {
   "cell_type": "code",
   "execution_count": 1,
   "metadata": {
    "scrolled": true
   },
   "outputs": [
    {
     "name": "stdout",
     "output_type": "stream",
     "text": [
      "Usage: clef [OPTIONS] COMMAND [ARGS]...\r\n",
      "\r\n",
      "Options:\r\n",
      "  --remote   returns only ESGF search results\r\n",
      "  --local    returns only local files matching arguments in local database\r\n",
      "  --missing  returns only missing files matching ESGF search\r\n",
      "  --request  send NCI request to download missing files matching ESGF search\r\n",
      "  --debug    Show debug info\r\n",
      "  --help     Show this message and exit.\r\n",
      "\r\n",
      "Commands:\r\n",
      "  cmip5  Search ESGF and local database for CMIP5 files Constraints can be...\r\n",
      "  cmip6  Search ESGF and local database for CMIP6 files Constraints can be...\r\n",
      "  ds     Search local database for non-ESGF datasets\r\n"
     ]
    }
   ],
   "source": [
    "!clef"
   ]
  },
  {
   "cell_type": "markdown",
   "metadata": {},
   "source": [
    "By simpling running the command **clef** with no arguments, the tool shows the help message and then exits, basically it is equivalent to \n",
    "> clef --help <br>\n",
    "\n",
    "We can see currently there are 3 sub-commands, **ds** to query non-ESGF collections and one for each cmip dataset: **cmip5** and **cmip6**.  <br>\n",
    "There are also five different options that can be passed before the sub-commands, one we have already seen is *--help*. The others are used to modify how the tool will deal with the main query output. We will have a look at them and at **ds** later. <br>\n",
    "Let's start from quering some CMIP5 data, to see what we can pass to the **cmip5** sub-command we can simply run it with its *--help* option."
   ]
  },
  {
   "cell_type": "markdown",
   "metadata": {},
   "source": [
    "## CMIP5"
   ]
  },
  {
   "cell_type": "code",
   "execution_count": 2,
   "metadata": {
    "scrolled": true
   },
   "outputs": [
    {
     "name": "stdout",
     "output_type": "stream",
     "text": [
      "Usage: clef cmip5 [OPTIONS] [QUERY]...\r\n",
      "\r\n",
      "  Search ESGF and local database for CMIP5 files\r\n",
      "\r\n",
      "  Constraints can be specified multiple times, in which case they are\r\n",
      "  combined    using OR: -v tas -v tasmin will return anything matching\r\n",
      "  variable = 'tas' or variable = 'tasmin'. The --latest flag will check ESGF\r\n",
      "  for the latest version available, this is the default behaviour\r\n",
      "\r\n",
      "Options:\r\n",
      "  -e, --experiment x              CMIP5 experiment: piControl, rcp85, amip ...\r\n",
      "  --experiment_family [Atmos-only|Control|Decadal|ESM|Historical|Idealized|Paleo|RCP]\r\n",
      "                                  CMIP5 experiment family: Decadal, RCP ...\r\n",
      "  -m, --model x                   CMIP5 model acronym: ACCESS1.3, MIROC5 ...\r\n",
      "  -t, --table, --mip [Amon|Omon|OImon|LImon|Lmon|6hrPlev|6hrLev|3hr|Oclim|Oyr|aero|cfOff|cfSites|cfMon|cfDay|cf3hr|day|fx|grids]\r\n",
      "  -v, --variable x                Variable name as shown in filanames: tas,\r\n",
      "                                  pr, sic ...\r\n",
      "\r\n",
      "  -en, --ensemble, --member TEXT  CMIP5 ensemble member: r#i#p#\r\n",
      "  --frequency [mon|day|3hr|6hr|fx|yr|monClim|subhr]\r\n",
      "  --realm [atmos|ocean|land|landIce|seaIce|aerosol|atmosChem|ocnBgchem]\r\n",
      "  --and [variable|experiment|cmor_table|realm|time_frequency|model|ensemble]\r\n",
      "                                  Attributes for which we want to add AND\r\n",
      "                                  filter, i.e. `--and variable` to apply to\r\n",
      "                                  variable values\r\n",
      "\r\n",
      "  --institution TEXT              Modelling group institution id: MIROC, IPSL,\r\n",
      "                                  MRI ...\r\n",
      "\r\n",
      "  --cf_standard_name TEXT         CF variable standard_name, use instead of\r\n",
      "                                  variable constraint\r\n",
      "\r\n",
      "  --latest / --all-versions       Return only the latest version or all of\r\n",
      "                                  them. Default: --latest\r\n",
      "\r\n",
      "  --replica / --no-replica        Return both original files and replicas.\r\n",
      "                                  Default: --no-replica\r\n",
      "\r\n",
      "  --distrib / --no-distrib        Distribute search across all ESGF nodes.\r\n",
      "                                  Default: --distrib\r\n",
      "\r\n",
      "  --csv / --no-csv                Send output to csv file including extra\r\n",
      "                                  information. Default: --no-csv\r\n",
      "\r\n",
      "  --stats / --no-stats            Write summary of query results, works only\r\n",
      "                                  with --local option. Default: --no-stats\r\n",
      "\r\n",
      "  --debug / --no-debug            Show debug output. Default: --no-debug\r\n",
      "  --help                          Show this message and exit.\r\n"
     ]
    }
   ],
   "source": [
    "!clef cmip5 --help"
   ]
  },
  {
   "cell_type": "markdown",
   "metadata": {},
   "source": [
    "### Passing arguments and options"
   ]
  },
  {
   "cell_type": "markdown",
   "metadata": {},
   "source": [
    "The *help* shows all the constraints we can pass to the tool, there are also some additional options which can change the way we run our query. For the moment we can ignore these and use their default values. <br>\n",
    "Some of the constraints can be passed using an abbreviation,like *-v* instead of *--variable*. This is handy once you are more familiar with the tool. <br>\n",
    "The same option can have more than one name, for example *--ensemble* can also be passed as *--member*, this is because the terminology has changed between CMIP5 and CMIP6. <br>\n",
    "You can pass how many constraints you want and pass the same constraint more than once. Let's see what happens though if we do not pass any constraint."
   ]
  },
  {
   "cell_type": "code",
   "execution_count": 3,
   "metadata": {},
   "outputs": [
    {
     "name": "stdout",
     "output_type": "stream",
     "text": [
      "ERROR: Too many results (3781387), try limiting your search https://esgf.nci.org.au/search/esgf-nci?query=&type=File&distrib=True&replica=False&latest=True&project=CMIP5\r\n"
     ]
    }
   ],
   "source": [
    "!clef cmip5"
   ]
  },
  {
   "cell_type": "code",
   "execution_count": 4,
   "metadata": {},
   "outputs": [
    {
     "name": "stdout",
     "output_type": "stream",
     "text": [
      "ERROR: No matches found on ESGF, check at https://esgf.nci.org.au/search/esgf-nci?query=&type=File&distrib=True&replica=False&latest=True&project=CMIP5&ensemble=r2i1p1s&experiment=historical&cmor_table=day&variable=tasmin\r\n"
     ]
    }
   ],
   "source": [
    "!clef cmip5 --variable tasmin --experiment historical --table day --ensemble r2i1p1s"
   ]
  },
  {
   "cell_type": "markdown",
   "metadata": {},
   "source": [
    "Oops that wasn't reasonable! I mispelled the ensemble \"r2i1p1s\" does not exists and the tool is telling me it cannot find any matches."
   ]
  },
  {
   "cell_type": "code",
   "execution_count": 5,
   "metadata": {},
   "outputs": [
    {
     "name": "stdout",
     "output_type": "stream",
     "text": [
      "Usage: clef cmip5 [OPTIONS] [QUERY]...\r\n",
      "Try 'clef cmip5 --help' for help.\r\n",
      "\r\n",
      "Error: Invalid value for '--table' / '--mip' / '-t': invalid choice: days. (choose from Amon, Omon, OImon, LImon, Lmon, 6hrPlev, 6hrLev, 3hr, Oclim, Oyr, aero, cfOff, cfSites, cfMon, cfDay, cf3hr, day, fx, grids)\r\n"
     ]
    }
   ],
   "source": [
    "!clef cmip5 --variable tasmin --experiment historical --table days --ensemble r2i1p1"
   ]
  },
  {
   "cell_type": "markdown",
   "metadata": {},
   "source": [
    "Made another spelling mistake, in this case the tool knows that I passed a wrong value and lists for me all the available options for the CMOR table. Eventually we are aiming to validate all the arguments we can, although for some it is no possible to pass all the possible values (ensemble for example)."
   ]
  },
  {
   "cell_type": "code",
   "execution_count": 6,
   "metadata": {
    "scrolled": false
   },
   "outputs": [
    {
     "name": "stdout",
     "output_type": "stream",
     "text": [
      "/g/data/al33/replicas/CMIP5/combined/CCCma/CanCM4/historical/day/atmos/day/r2i1p1/v20120207/tasmin/\n",
      "/g/data/al33/replicas/CMIP5/combined/CCCma/CanCM4/historical/day/atmos/day/r2i1p1/v20120612/tasmin/\n",
      "/g/data/al33/replicas/CMIP5/combined/CCCma/CanESM2/historical/day/atmos/day/r2i1p1/v20120410/tasmin/\n",
      "/g/data/al33/replicas/CMIP5/combined/CNRM-CERFACS/CNRM-CM5/historical/day/atmos/day/r2i1p1/v20120703/tasmin/\n",
      "/g/data/al33/replicas/CMIP5/combined/IPSL/IPSL-CM5A-LR/historical/day/atmos/day/r2i1p1/v20130506/tasmin/\n",
      "/g/data/al33/replicas/CMIP5/combined/IPSL/IPSL-CM5A-MR/historical/day/atmos/day/r2i1p1/v20130506/tasmin/\n",
      "/g/data/al33/replicas/CMIP5/combined/LASG-IAP/FGOALS-s2/historical/day/atmos/day/r2i1p1/v20161204/tasmin/\n",
      "/g/data/al33/replicas/CMIP5/combined/MIROC/MIROC-ESM/historical/day/atmos/day/r2i1p1/v20120710/tasmin/\n",
      "/g/data/al33/replicas/CMIP5/combined/MIROC/MIROC4h/historical/day/atmos/day/r2i1p1/v20120628/tasmin/\n",
      "/g/data/al33/replicas/CMIP5/combined/MIROC/MIROC5/historical/day/atmos/day/r2i1p1/v20120710/tasmin/\n",
      "/g/data/al33/replicas/CMIP5/combined/MOHC/HadCM3/historical/day/atmos/day/r2i1p1/v20140110/tasmin/\n",
      "/g/data/al33/replicas/CMIP5/combined/MOHC/HadGEM2-CC/historical/day/atmos/day/r2i1p1/v20111129/tasmin/\n",
      "/g/data/al33/replicas/CMIP5/combined/MOHC/HadGEM2-ES/historical/day/atmos/day/r2i1p1/v20110418/tasmin/\n",
      "/g/data/al33/replicas/CMIP5/combined/MPI-M/MPI-ESM-LR/historical/day/atmos/day/r2i1p1/v20111006/tasmin/\n",
      "/g/data/al33/replicas/CMIP5/combined/MPI-M/MPI-ESM-MR/historical/day/atmos/day/r2i1p1/v20120503/tasmin/\n",
      "/g/data/al33/replicas/CMIP5/combined/MPI-M/MPI-ESM-P/historical/day/atmos/day/r2i1p1/v20120315/tasmin/\n",
      "/g/data/al33/replicas/CMIP5/combined/MRI/MRI-CGCM3/historical/day/atmos/day/r2i1p1/v20120701/tasmin/\n",
      "/g/data/al33/replicas/CMIP5/combined/NCC/NorESM1-M/historical/day/atmos/day/r2i1p1/v20110901/tasmin/\n",
      "/g/data/al33/replicas/CMIP5/combined/NOAA-GFDL/GFDL-CM3/historical/day/atmos/day/r2i1p1/v20120227/tasmin/\n",
      "/g/data/rr3/publications/CMIP5/output1/CSIRO-QCCCE/CSIRO-Mk3-6-0/historical/day/atmos/day/r2i1p1/files/tasmin_20110518/\n",
      "\n",
      "Everything available on ESGF is also available locally\n"
     ]
    }
   ],
   "source": [
    "!clef cmip5 --variable tasmin --experiment historical --table day --ensemble r2i1p1"
   ]
  },
  {
   "cell_type": "markdown",
   "metadata": {},
   "source": [
    "The tool first search on the ESGF for all the files that match the constraints we passed. It then looks for these file locally and if it finds them it returns their path on raijin.\n",
    "For all the files it can't find locally, the tool check an NCI table listing the downloads they are working on. Finally it lists missing datasets which are in the download queue, followed by the datasets that are not available locally and no one has yet requested. <br>\n",
    "\n",
    "The tool list the datasets paths and dataset_ids, we used to have a --format file option but this has been removed in most recent versions. <br>\n",
    "\n",
    "The query by default returns the latest available version. What if we want to have a look at all the available versions?"
   ]
  },
  {
   "cell_type": "code",
   "execution_count": 10,
   "metadata": {
    "scrolled": true
   },
   "outputs": [
    {
     "name": "stdout",
     "output_type": "stream",
     "text": [
      "/g/data/rr3/publications/CMIP5/output1/CSIRO-BOM/ACCESS1-0/historical/mon/atmos/Amon/r1i1p1/files/clivi_20120115/\r\n",
      "/g/data/rr3/publications/CMIP5/output1/CSIRO-BOM/ACCESS1-0/historical/mon/atmos/Amon/r1i1p1/files/clivi_20120727/\r\n",
      "/g/data/rr3/publications/CMIP5/output1/CSIRO-BOM/ACCESS1-0/historical/mon/atmos/Amon/r3i1p1/files/clivi_20140402/\r\n",
      "\r\n",
      "Everything available on ESGF is also available locally\r\n"
     ]
    }
   ],
   "source": [
    "!clef cmip5 --variable clivi --experiment historical --table Amon -m ACCESS1.0 --all-versions"
   ]
  },
  {
   "cell_type": "markdown",
   "metadata": {},
   "source": [
    "The option *--all-versions* is the reverse of *--latest*, which is also the default, so we get a list of all available versions. <br>\n",
    "Since all the ACCESS1.0 data is available on NCI (which is the authoritative source for the ACCESS models) the tool shouldn't find any missing datasets, if it does please let us know about it."
   ]
  },
  {
   "cell_type": "markdown",
   "metadata": {},
   "source": [
    "## CMIP6"
   ]
  },
  {
   "cell_type": "code",
   "execution_count": 11,
   "metadata": {
    "scrolled": true
   },
   "outputs": [
    {
     "name": "stdout",
     "output_type": "stream",
     "text": [
      "Usage: clef cmip6 [OPTIONS] [QUERY]...\r\n",
      "\r\n",
      "  Search ESGF and local database for CMIP6 files Constraints can be\r\n",
      "  specified multiple times, in which case they are combined using OR:  -v\r\n",
      "  tas -v tasmin will return anything matching variable = 'tas' or variable =\r\n",
      "  'tasmin'. The --latest flag will check ESGF for the latest version\r\n",
      "  available, this is the default behaviour\r\n",
      "\r\n",
      "Options:\r\n",
      "  -mip, --activity [AerChemMIP|C4MIP|CDRMIP|CFMIP|CMIP|CORDEX|DAMIP|DCPP|DynVarMIP|FAFMIP|GMMIP|GeoMIP|HighResMIP|ISMIP6|LS3MIP|LUMIP|OMIP|PAMIP|PMIP|RFMIP|SIMIP|ScenarioMIP|VIACSAB|VolMIP]\r\n",
      "  -e, --experiment x              CMIP6 experiment, list of available depends\r\n",
      "                                  on activity\r\n",
      "\r\n",
      "  --source_type [AER|AGCM|AOGCM|BGC|CHEM|ISM|LAND|OGCM|RAD|SLAB]\r\n",
      "  -t, --table x                   CMIP6 CMOR table: Amon, SIday, Oday ...\r\n",
      "  -m, --model, --source_id x      CMIP6 model id: GFDL-AM4, CNRM-CM6-1 ...\r\n",
      "  -v, --variable x                CMIP6 variable name as in filenames\r\n",
      "  -mi, --member TEXT              CMIP6 member id: <sub-exp-id>-r#i#p#f#\r\n",
      "  -g, --grid, --grid_label TEXT   CMIP6 grid label: i.e. gn for the model\r\n",
      "                                  native grid\r\n",
      "\r\n",
      "  -nr, --resolution, --nominal_resolution TEXT\r\n",
      "                                  Approximate resolution: '250 km', pass in\r\n",
      "                                  quotes\r\n",
      "\r\n",
      "  --frequency [1hr|1hrCM|1hrPt|3hr|3hrPt|6hr|6hrPt|day|dec|fx|mon|monC|monPt|subhrPt|yr|yrPt]\r\n",
      "  --realm [aerosol|atmos|atmosChem|land|landIce|ocean|ocnBgchem|seaIce]\r\n",
      "  -se, --sub_experiment_id TEXT   Only available for hindcast and forecast\r\n",
      "                                  experiments: sYYYY\r\n",
      "\r\n",
      "  -vl, --variant_label TEXT       Indicates a model variant: r#i#p#f#\r\n",
      "  --and [variable_id|experiment_id|table_id|realm|frequency|member_id|source_id|source_type|activity_id|grid|grid_label|nominal_resolution|sub_experiment_id]\r\n",
      "                                  Attributes for which we want to add AND\r\n",
      "                                  filter, i.e. `--and variable_id` to apply to\r\n",
      "                                  variable values\r\n",
      "\r\n",
      "  --institution TEXT              Modelling group institution id: IPSL, NOAA-\r\n",
      "                                  GFDL ...\r\n",
      "\r\n",
      "  --cf_standard_name TEXT         CF variable standard_name, use instead of\r\n",
      "                                  variable constraint\r\n",
      "\r\n",
      "  --latest / --all-versions       Return only the latest version or all of\r\n",
      "                                  them. Default: --latest\r\n",
      "\r\n",
      "  --replica / --no-replica        Return both original files and replicas.\r\n",
      "                                  Default: --no-replica\r\n",
      "\r\n",
      "  --distrib / --no-distrib        Distribute search across all ESGF nodes.\r\n",
      "                                  Default: --distrib\r\n",
      "\r\n",
      "  --csv / --no-csv                Send output to csv file including extra\r\n",
      "                                  information. Default: --no-csv\r\n",
      "\r\n",
      "  --stats / --no-stats            Write summary of query results, works only\r\n",
      "                                  with --local option. Default: --no-stats\r\n",
      "\r\n",
      "  --debug / --no-debug            Show debug output. Default: --no-debug\r\n",
      "  --help                          Show this message and exit.\r\n"
     ]
    }
   ],
   "source": [
    "!clef cmip6 --help"
   ]
  },
  {
   "cell_type": "markdown",
   "metadata": {},
   "source": [
    "The **cmip6** sub-command works in the same way but some constraints are different. As well as changes in terminology CMIP6 has more attributes (*facets*) that can be used to select the data. <br>\n",
    "Examples of these are the **activity** which groups experiments, **resolution** which is an approximation of the actual resolution and **grid**."
   ]
  },
  {
   "cell_type": "markdown",
   "metadata": {},
   "source": [
    "### Controlling the ouput: clef options"
   ]
  },
  {
   "cell_type": "code",
   "execution_count": 12,
   "metadata": {
    "scrolled": true
   },
   "outputs": [
    {
     "name": "stdout",
     "output_type": "stream",
     "text": [
      "/g/data/oi10/replicas/CMIP6/CMIP/CNRM-CERFACS/CNRM-CM6-1-HR/1pctCO2/r1i1p1f2/Amon/tasmax/gr/v20191021\r\n",
      "/g/data/oi10/replicas/CMIP6/CMIP/CNRM-CERFACS/CNRM-CM6-1/1pctCO2/r1i1p1f2/Amon/tasmax/gr/v20180626\r\n",
      "/g/data/oi10/replicas/CMIP6/CMIP/CNRM-CERFACS/CNRM-ESM2-1/1pctCO2/r10i1p1f2/Amon/tasmax/gr/v20200529\r\n",
      "/g/data/oi10/replicas/CMIP6/CMIP/CNRM-CERFACS/CNRM-ESM2-1/1pctCO2/r1i1p1f2/Amon/tasmax/gr/v20181018\r\n",
      "/g/data/oi10/replicas/CMIP6/CMIP/CNRM-CERFACS/CNRM-ESM2-1/1pctCO2/r2i1p1f2/Amon/tasmax/gr/v20181031\r\n",
      "/g/data/oi10/replicas/CMIP6/CMIP/CNRM-CERFACS/CNRM-ESM2-1/1pctCO2/r3i1p1f2/Amon/tasmax/gr/v20181107\r\n",
      "/g/data/oi10/replicas/CMIP6/CMIP/CNRM-CERFACS/CNRM-ESM2-1/1pctCO2/r4i1p1f2/Amon/tasmax/gr/v20190328\r\n",
      "/g/data/oi10/replicas/CMIP6/CMIP/CNRM-CERFACS/CNRM-ESM2-1/1pctCO2/r5i1p1f2/Amon/tasmax/gr/v20200529\r\n",
      "/g/data/oi10/replicas/CMIP6/CMIP/CNRM-CERFACS/CNRM-ESM2-1/1pctCO2/r6i1p1f2/Amon/tasmax/gr/v20200529\r\n",
      "/g/data/oi10/replicas/CMIP6/CMIP/CNRM-CERFACS/CNRM-ESM2-1/1pctCO2/r7i1p1f2/Amon/tasmax/gr/v20200529\r\n",
      "/g/data/oi10/replicas/CMIP6/CMIP/CNRM-CERFACS/CNRM-ESM2-1/1pctCO2/r8i1p1f2/Amon/tasmax/gr/v20200529\r\n",
      "/g/data/oi10/replicas/CMIP6/CMIP/CNRM-CERFACS/CNRM-ESM2-1/1pctCO2/r9i1p1f2/Amon/tasmax/gr/v20200529\r\n",
      "/g/data/oi10/replicas/CMIP6/CMIP/EC-Earth-Consortium/EC-Earth3-Veg/1pctCO2/r1i1p1f1/Amon/tasmax/gr/v20190702\r\n",
      "/g/data/oi10/replicas/CMIP6/CMIP/EC-Earth-Consortium/EC-Earth3-Veg/1pctCO2/r1i1p1f1/Amon/tasmax/gr/v20200325\r\n",
      "/g/data/oi10/replicas/CMIP6/CMIP/EC-Earth-Consortium/EC-Earth3/1pctCO2/r3i1p1f1/Amon/tasmax/gr/v20191114\r\n",
      "/g/data/oi10/replicas/CMIP6/CMIP/EC-Earth-Consortium/EC-Earth3/1pctCO2/r3i1p1f1/Amon/tasmax/gr/v20200727\r\n",
      "/g/data/oi10/replicas/CMIP6/CMIP/IPSL/IPSL-CM6A-LR/1pctCO2/r1i1p1f1/Amon/tasmax/gr/v20180727\r\n",
      "/g/data/oi10/replicas/CMIP6/CMIP/THU/CIESM/1pctCO2/r1i1p1f1/Amon/tasmax/gr/v20200417\r\n",
      "/g/data/oi10/replicas/CMIP6/CMIP/CNRM-CERFACS/CNRM-CM6-1-HR/1pctCO2/r1i1p1f2/Amon/tasmin/gr/v20191021\r\n",
      "/g/data/oi10/replicas/CMIP6/CMIP/CNRM-CERFACS/CNRM-CM6-1/1pctCO2/r1i1p1f2/Amon/tasmin/gr/v20180626\r\n",
      "/g/data/oi10/replicas/CMIP6/CMIP/CNRM-CERFACS/CNRM-ESM2-1/1pctCO2/r10i1p1f2/Amon/tasmin/gr/v20200529\r\n",
      "/g/data/oi10/replicas/CMIP6/CMIP/CNRM-CERFACS/CNRM-ESM2-1/1pctCO2/r1i1p1f2/Amon/tasmin/gr/v20181018\r\n",
      "/g/data/oi10/replicas/CMIP6/CMIP/CNRM-CERFACS/CNRM-ESM2-1/1pctCO2/r2i1p1f2/Amon/tasmin/gr/v20181031\r\n",
      "/g/data/oi10/replicas/CMIP6/CMIP/CNRM-CERFACS/CNRM-ESM2-1/1pctCO2/r3i1p1f2/Amon/tasmin/gr/v20181107\r\n",
      "/g/data/oi10/replicas/CMIP6/CMIP/CNRM-CERFACS/CNRM-ESM2-1/1pctCO2/r4i1p1f2/Amon/tasmin/gr/v20190328\r\n",
      "/g/data/oi10/replicas/CMIP6/CMIP/CNRM-CERFACS/CNRM-ESM2-1/1pctCO2/r5i1p1f2/Amon/tasmin/gr/v20200529\r\n",
      "/g/data/oi10/replicas/CMIP6/CMIP/CNRM-CERFACS/CNRM-ESM2-1/1pctCO2/r6i1p1f2/Amon/tasmin/gr/v20200529\r\n",
      "/g/data/oi10/replicas/CMIP6/CMIP/CNRM-CERFACS/CNRM-ESM2-1/1pctCO2/r7i1p1f2/Amon/tasmin/gr/v20200529\r\n",
      "/g/data/oi10/replicas/CMIP6/CMIP/CNRM-CERFACS/CNRM-ESM2-1/1pctCO2/r8i1p1f2/Amon/tasmin/gr/v20200529\r\n",
      "/g/data/oi10/replicas/CMIP6/CMIP/CNRM-CERFACS/CNRM-ESM2-1/1pctCO2/r9i1p1f2/Amon/tasmin/gr/v20200529\r\n",
      "/g/data/oi10/replicas/CMIP6/CMIP/EC-Earth-Consortium/EC-Earth3-Veg/1pctCO2/r1i1p1f1/Amon/tasmin/gr/v20190702\r\n",
      "/g/data/oi10/replicas/CMIP6/CMIP/EC-Earth-Consortium/EC-Earth3-Veg/1pctCO2/r1i1p1f1/Amon/tasmin/gr/v20200325\r\n",
      "/g/data/oi10/replicas/CMIP6/CMIP/EC-Earth-Consortium/EC-Earth3/1pctCO2/r3i1p1f1/Amon/tasmin/gr/v20191114\r\n",
      "/g/data/oi10/replicas/CMIP6/CMIP/EC-Earth-Consortium/EC-Earth3/1pctCO2/r3i1p1f1/Amon/tasmin/gr/v20200727\r\n",
      "/g/data/oi10/replicas/CMIP6/CMIP/IPSL/IPSL-CM6A-LR/1pctCO2/r1i1p1f1/Amon/tasmin/gr/v20180727\r\n",
      "/g/data/oi10/replicas/CMIP6/CMIP/THU/CIESM/1pctCO2/r1i1p1f1/Amon/tasmin/gr/v20200417\r\n"
     ]
    }
   ],
   "source": [
    "!clef --local cmip6 -e 1pctCO2 -t Amon -v tasmax -v tasmin -g gr"
   ]
  },
  {
   "cell_type": "markdown",
   "metadata": {},
   "source": [
    "In this example we used the *--local* option for the main command **clef** to get only the local matching data path as output. <br> \n",
    "Note also that:\n",
    "- we are using abbreviations for the options where available; \n",
    "- we are passing the variable *-v* option twice; \n",
    "- we used the CMIP6 specific option *-g/--grid* to search for all data that is not on the model native grid. This doesn't indicate a grid common to all the CMIP6 output only to the model itself, the same is true for member_id and other attributes.<br>\n",
    "\n",
    "*--local* is actually executing the query directly on the NCI clef.nci.org.au database, which is different from the default query where the search is executed first on the ESGF and then its results are matched locally.<br>\n",
    "In the example above the final result is exactly the same, whichever way we perform the query. This way of searching can give you more results if a node is offline or if a version have been unpublished from the ESGF but is still available locally."
   ]
  },
  {
   "cell_type": "code",
   "execution_count": 13,
   "metadata": {
    "scrolled": false
   },
   "outputs": [
    {
     "name": "stdout",
     "output_type": "stream",
     "text": [
      "\r\n",
      "Available on ESGF but not locally:\r\n",
      "CMIP6.CMIP.CAS.FGOALS-f3-L.1pctCO2.r1i1p1f1.Amon.clw.gr.v20200620\r\n",
      "CMIP6.CMIP.CAS.FGOALS-f3-L.1pctCO2.r1i1p1f1.Amon.clwvi.gr.v20200620\r\n",
      "CMIP6.CMIP.CAS.FGOALS-f3-L.1pctCO2.r2i1p1f1.Amon.clw.gr.v20200620\r\n",
      "CMIP6.CMIP.CAS.FGOALS-f3-L.1pctCO2.r2i1p1f1.Amon.clwvi.gr.v20200620\r\n",
      "CMIP6.CMIP.CAS.FGOALS-f3-L.1pctCO2.r3i1p1f1.Amon.clw.gr.v20200620\r\n",
      "CMIP6.CMIP.CAS.FGOALS-f3-L.1pctCO2.r3i1p1f1.Amon.clwvi.gr.v20200620\r\n",
      "CMIP6.CMIP.CNRM-CERFACS.CNRM-CM6-1.1pctCO2.r1i1p1f2.Amon.clw.gr.v20180626\r\n",
      "CMIP6.CMIP.CNRM-CERFACS.CNRM-CM6-1.1pctCO2.r1i1p1f2.Amon.clwvi.gr.v20180626\r\n",
      "CMIP6.CMIP.CNRM-CERFACS.CNRM-CM6-1-HR.1pctCO2.r1i1p1f2.Amon.clw.gr.v20191021\r\n",
      "CMIP6.CMIP.CNRM-CERFACS.CNRM-CM6-1-HR.1pctCO2.r1i1p1f2.Amon.clwvi.gr.v20191021\r\n",
      "CMIP6.CMIP.CNRM-CERFACS.CNRM-ESM2-1.1pctCO2.r10i1p1f2.Amon.clw.gr.v20200529\r\n",
      "CMIP6.CMIP.CNRM-CERFACS.CNRM-ESM2-1.1pctCO2.r10i1p1f2.Amon.clwvi.gr.v20200529\r\n",
      "CMIP6.CMIP.CNRM-CERFACS.CNRM-ESM2-1.1pctCO2.r1i1p1f2.Amon.clw.gr.v20181018\r\n",
      "CMIP6.CMIP.CNRM-CERFACS.CNRM-ESM2-1.1pctCO2.r1i1p1f2.Amon.clwvi.gr.v20181018\r\n",
      "CMIP6.CMIP.CNRM-CERFACS.CNRM-ESM2-1.1pctCO2.r2i1p1f2.Amon.clw.gr.v20181031\r\n",
      "CMIP6.CMIP.CNRM-CERFACS.CNRM-ESM2-1.1pctCO2.r2i1p1f2.Amon.clwvi.gr.v20181031\r\n",
      "CMIP6.CMIP.CNRM-CERFACS.CNRM-ESM2-1.1pctCO2.r3i1p1f2.Amon.clw.gr.v20181107\r\n",
      "CMIP6.CMIP.CNRM-CERFACS.CNRM-ESM2-1.1pctCO2.r3i1p1f2.Amon.clwvi.gr.v20181107\r\n",
      "CMIP6.CMIP.CNRM-CERFACS.CNRM-ESM2-1.1pctCO2.r4i1p1f2.Amon.clw.gr.v20190328\r\n",
      "CMIP6.CMIP.CNRM-CERFACS.CNRM-ESM2-1.1pctCO2.r4i1p1f2.Amon.clwvi.gr.v20190328\r\n",
      "CMIP6.CMIP.CNRM-CERFACS.CNRM-ESM2-1.1pctCO2.r5i1p1f2.Amon.clw.gr.v20200529\r\n",
      "CMIP6.CMIP.CNRM-CERFACS.CNRM-ESM2-1.1pctCO2.r5i1p1f2.Amon.clwvi.gr.v20200529\r\n",
      "CMIP6.CMIP.CNRM-CERFACS.CNRM-ESM2-1.1pctCO2.r6i1p1f2.Amon.clw.gr.v20200529\r\n",
      "CMIP6.CMIP.CNRM-CERFACS.CNRM-ESM2-1.1pctCO2.r6i1p1f2.Amon.clwvi.gr.v20200529\r\n",
      "CMIP6.CMIP.CNRM-CERFACS.CNRM-ESM2-1.1pctCO2.r7i1p1f2.Amon.clw.gr.v20200529\r\n",
      "CMIP6.CMIP.CNRM-CERFACS.CNRM-ESM2-1.1pctCO2.r7i1p1f2.Amon.clwvi.gr.v20200529\r\n",
      "CMIP6.CMIP.CNRM-CERFACS.CNRM-ESM2-1.1pctCO2.r8i1p1f2.Amon.clw.gr.v20200529\r\n",
      "CMIP6.CMIP.CNRM-CERFACS.CNRM-ESM2-1.1pctCO2.r8i1p1f2.Amon.clwvi.gr.v20200529\r\n",
      "CMIP6.CMIP.CNRM-CERFACS.CNRM-ESM2-1.1pctCO2.r9i1p1f2.Amon.clw.gr.v20200529\r\n",
      "CMIP6.CMIP.CNRM-CERFACS.CNRM-ESM2-1.1pctCO2.r9i1p1f2.Amon.clwvi.gr.v20200529\r\n",
      "CMIP6.CMIP.E3SM-Project.E3SM-1-0.1pctCO2.r1i1p1f1.Amon.clw.gr.v20190718\r\n",
      "CMIP6.CMIP.E3SM-Project.E3SM-1-0.1pctCO2.r1i1p1f1.Amon.clwvi.gr.v20190718\r\n",
      "CMIP6.CMIP.EC-Earth-Consortium.EC-Earth3.1pctCO2.r3i1p1f1.Amon.clwvi.gr.v20200727\r\n",
      "CMIP6.CMIP.EC-Earth-Consortium.EC-Earth3-Veg.1pctCO2.r1i1p1f1.Amon.clwvi.gr.v20200325\r\n",
      "CMIP6.CMIP.IPSL.IPSL-CM6A-LR.1pctCO2.r1i1p1f1.Amon.clw.gr.v20180727\r\n",
      "CMIP6.CMIP.IPSL.IPSL-CM6A-LR.1pctCO2.r1i1p1f1.Amon.clwvi.gr.v20180727\r\n",
      "CMIP6.CMIP.NIMS-KMA.KACE-1-0-G.1pctCO2.r1i1p1f1.Amon.clw.gr.v20190916\r\n",
      "CMIP6.CMIP.NIMS-KMA.KACE-1-0-G.1pctCO2.r1i1p1f1.Amon.clwvi.gr.v20190916\r\n",
      "CMIP6.CMIP.THU.CIESM.1pctCO2.r1i1p1f1.Amon.clw.gr.v20200417\r\n",
      "CMIP6.CMIP.THU.CIESM.1pctCO2.r1i1p1f1.Amon.clwvi.gr.v20200417\r\n"
     ]
    }
   ],
   "source": [
    "!clef --missing cmip6 -e 1pctCO2 -v clw -v clwvi -t Amon -g gr"
   ]
  },
  {
   "cell_type": "markdown",
   "metadata": {},
   "source": [
    "This time we used the *--missing* option and the tool returned only the results matching the constraints that are available on the ESGF but not locally (we changed variables to make sure to get some missing data back)."
   ]
  },
  {
   "cell_type": "code",
   "execution_count": 14,
   "metadata": {
    "scrolled": true
   },
   "outputs": [
    {
     "name": "stdout",
     "output_type": "stream",
     "text": [
      "CMIP6.CMIP.CNRM-CERFACS.CNRM-CM6-1-HR.1pctCO2.r1i1p1f2.Amon.tasmin.gr.v20191021\r\n",
      "CMIP6.CMIP.CNRM-CERFACS.CNRM-CM6-1.1pctCO2.r1i1p1f2.Amon.tasmin.gr.v20180626\r\n",
      "CMIP6.CMIP.CNRM-CERFACS.CNRM-ESM2-1.1pctCO2.r10i1p1f2.Amon.tasmin.gr.v20200529\r\n",
      "CMIP6.CMIP.CNRM-CERFACS.CNRM-ESM2-1.1pctCO2.r1i1p1f2.Amon.tasmin.gr.v20181018\r\n",
      "CMIP6.CMIP.CNRM-CERFACS.CNRM-ESM2-1.1pctCO2.r2i1p1f2.Amon.tasmin.gr.v20181031\r\n",
      "CMIP6.CMIP.CNRM-CERFACS.CNRM-ESM2-1.1pctCO2.r3i1p1f2.Amon.tasmin.gr.v20181107\r\n",
      "CMIP6.CMIP.CNRM-CERFACS.CNRM-ESM2-1.1pctCO2.r4i1p1f2.Amon.tasmin.gr.v20190328\r\n",
      "CMIP6.CMIP.CNRM-CERFACS.CNRM-ESM2-1.1pctCO2.r5i1p1f2.Amon.tasmin.gr.v20200529\r\n",
      "CMIP6.CMIP.CNRM-CERFACS.CNRM-ESM2-1.1pctCO2.r6i1p1f2.Amon.tasmin.gr.v20200529\r\n",
      "CMIP6.CMIP.CNRM-CERFACS.CNRM-ESM2-1.1pctCO2.r7i1p1f2.Amon.tasmin.gr.v20200529\r\n",
      "CMIP6.CMIP.CNRM-CERFACS.CNRM-ESM2-1.1pctCO2.r8i1p1f2.Amon.tasmin.gr.v20200529\r\n",
      "CMIP6.CMIP.CNRM-CERFACS.CNRM-ESM2-1.1pctCO2.r9i1p1f2.Amon.tasmin.gr.v20200529\r\n",
      "CMIP6.CMIP.EC-Earth-Consortium.EC-Earth3-Veg.1pctCO2.r1i1p1f1.Amon.tasmin.gr.v20200325\r\n",
      "CMIP6.CMIP.EC-Earth-Consortium.EC-Earth3.1pctCO2.r3i1p1f1.Amon.tasmin.gr.v20200727\r\n",
      "CMIP6.CMIP.IPSL.IPSL-CM6A-LR.1pctCO2.r1i1p1f1.Amon.tasmin.gr.v20180727\r\n",
      "CMIP6.CMIP.NIMS-KMA.KACE-1-0-G.1pctCO2.r1i1p1f1.Amon.tasmin.gr.v20200115\r\n",
      "CMIP6.CMIP.THU.CIESM.1pctCO2.r1i1p1f1.Amon.tasmin.gr.v20200417\r\n"
     ]
    }
   ],
   "source": [
    "!clef --remote cmip6 -e 1pctCO2 -v tasmin -t Amon -g gr"
   ]
  },
  {
   "cell_type": "markdown",
   "metadata": {},
   "source": [
    "The *--remote* option returns the Dataset_ids of the data matching the constraints, regardless that they are available locally or not."
   ]
  },
  {
   "cell_type": "markdown",
   "metadata": {},
   "source": [
    "Please note that *--local*, *--remote* and *--missing* together with *--request*, which we will look at next, are all options of the main command **clef** and they need to come before any sub-commands."
   ]
  },
  {
   "cell_type": "markdown",
   "metadata": {},
   "source": [
    "## Requesting new data"
   ]
  },
  {
   "cell_type": "markdown",
   "metadata": {},
   "source": [
    "What should we do if we found out there is some data we are interested to that has not been downloaded or requested yet? <br>\n",
    "This is a complex data collection, NCI, in consultation with the community, decided the best way to manage it was to have one point of reference. Part of this agreement is that NCI will download the files and update the database that **clef** is interrrogating. After consultation with the community a priority list was decided and NCI has started downloading anything that falls into it as soon as become available. <br> <br>\n",
    "Users can then request from the NCI helpdesk, other combinations of variables, experiments etc that do not fall into this list. <br>\n",
    "The list is available from the NCI climate confluence website: <br>\n",
    "Even without consulting the list you can use **clef**, as we demonstrated above, to search for a particular dataset, if it is not queued or downloaded already **clef** will give you an option to request it from NCI. <br>\n",
    "Let's see how it works."
   ]
  },
  {
   "cell_type": "code",
   "execution_count": 15,
   "metadata": {
    "scrolled": false
   },
   "outputs": [
    {
     "name": "stdout",
     "output_type": "stream",
     "text": [
      "\n",
      "Available on ESGF but not locally:\n",
      "CMIP6.CMIP.CAS.FGOALS-f3-L.1pctCO2.r1i1p1f1.Amon.clw.gr.v20200620\n",
      "CMIP6.CMIP.CAS.FGOALS-f3-L.1pctCO2.r1i1p1f1.Amon.clwvi.gr.v20200620\n",
      "CMIP6.CMIP.CAS.FGOALS-f3-L.1pctCO2.r2i1p1f1.Amon.clw.gr.v20200620\n",
      "CMIP6.CMIP.CAS.FGOALS-f3-L.1pctCO2.r2i1p1f1.Amon.clwvi.gr.v20200620\n",
      "CMIP6.CMIP.CAS.FGOALS-f3-L.1pctCO2.r3i1p1f1.Amon.clw.gr.v20200620\n",
      "CMIP6.CMIP.CAS.FGOALS-f3-L.1pctCO2.r3i1p1f1.Amon.clwvi.gr.v20200620\n",
      "CMIP6.CMIP.CNRM-CERFACS.CNRM-CM6-1.1pctCO2.r1i1p1f2.Amon.clw.gr.v20180626\n",
      "CMIP6.CMIP.CNRM-CERFACS.CNRM-CM6-1.1pctCO2.r1i1p1f2.Amon.clwvi.gr.v20180626\n",
      "CMIP6.CMIP.CNRM-CERFACS.CNRM-CM6-1-HR.1pctCO2.r1i1p1f2.Amon.clw.gr.v20191021\n",
      "CMIP6.CMIP.CNRM-CERFACS.CNRM-CM6-1-HR.1pctCO2.r1i1p1f2.Amon.clwvi.gr.v20191021\n",
      "CMIP6.CMIP.CNRM-CERFACS.CNRM-ESM2-1.1pctCO2.r10i1p1f2.Amon.clw.gr.v20200529\n",
      "CMIP6.CMIP.CNRM-CERFACS.CNRM-ESM2-1.1pctCO2.r10i1p1f2.Amon.clwvi.gr.v20200529\n",
      "CMIP6.CMIP.CNRM-CERFACS.CNRM-ESM2-1.1pctCO2.r1i1p1f2.Amon.clw.gr.v20181018\n",
      "CMIP6.CMIP.CNRM-CERFACS.CNRM-ESM2-1.1pctCO2.r1i1p1f2.Amon.clwvi.gr.v20181018\n",
      "CMIP6.CMIP.CNRM-CERFACS.CNRM-ESM2-1.1pctCO2.r2i1p1f2.Amon.clw.gr.v20181031\n",
      "CMIP6.CMIP.CNRM-CERFACS.CNRM-ESM2-1.1pctCO2.r2i1p1f2.Amon.clwvi.gr.v20181031\n",
      "CMIP6.CMIP.CNRM-CERFACS.CNRM-ESM2-1.1pctCO2.r3i1p1f2.Amon.clw.gr.v20181107\n",
      "CMIP6.CMIP.CNRM-CERFACS.CNRM-ESM2-1.1pctCO2.r3i1p1f2.Amon.clwvi.gr.v20181107\n",
      "CMIP6.CMIP.CNRM-CERFACS.CNRM-ESM2-1.1pctCO2.r4i1p1f2.Amon.clw.gr.v20190328\n",
      "CMIP6.CMIP.CNRM-CERFACS.CNRM-ESM2-1.1pctCO2.r4i1p1f2.Amon.clwvi.gr.v20190328\n",
      "CMIP6.CMIP.CNRM-CERFACS.CNRM-ESM2-1.1pctCO2.r5i1p1f2.Amon.clw.gr.v20200529\n",
      "CMIP6.CMIP.CNRM-CERFACS.CNRM-ESM2-1.1pctCO2.r5i1p1f2.Amon.clwvi.gr.v20200529\n",
      "CMIP6.CMIP.CNRM-CERFACS.CNRM-ESM2-1.1pctCO2.r6i1p1f2.Amon.clw.gr.v20200529\n",
      "CMIP6.CMIP.CNRM-CERFACS.CNRM-ESM2-1.1pctCO2.r6i1p1f2.Amon.clwvi.gr.v20200529\n",
      "CMIP6.CMIP.CNRM-CERFACS.CNRM-ESM2-1.1pctCO2.r7i1p1f2.Amon.clw.gr.v20200529\n",
      "CMIP6.CMIP.CNRM-CERFACS.CNRM-ESM2-1.1pctCO2.r7i1p1f2.Amon.clwvi.gr.v20200529\n",
      "CMIP6.CMIP.CNRM-CERFACS.CNRM-ESM2-1.1pctCO2.r8i1p1f2.Amon.clw.gr.v20200529\n",
      "CMIP6.CMIP.CNRM-CERFACS.CNRM-ESM2-1.1pctCO2.r8i1p1f2.Amon.clwvi.gr.v20200529\n",
      "CMIP6.CMIP.CNRM-CERFACS.CNRM-ESM2-1.1pctCO2.r9i1p1f2.Amon.clw.gr.v20200529\n",
      "CMIP6.CMIP.CNRM-CERFACS.CNRM-ESM2-1.1pctCO2.r9i1p1f2.Amon.clwvi.gr.v20200529\n",
      "CMIP6.CMIP.E3SM-Project.E3SM-1-0.1pctCO2.r1i1p1f1.Amon.clw.gr.v20190718\n",
      "CMIP6.CMIP.E3SM-Project.E3SM-1-0.1pctCO2.r1i1p1f1.Amon.clwvi.gr.v20190718\n",
      "CMIP6.CMIP.EC-Earth-Consortium.EC-Earth3.1pctCO2.r3i1p1f1.Amon.clwvi.gr.v20200727\n",
      "CMIP6.CMIP.EC-Earth-Consortium.EC-Earth3-Veg.1pctCO2.r1i1p1f1.Amon.clwvi.gr.v20200325\n",
      "CMIP6.CMIP.IPSL.IPSL-CM6A-LR.1pctCO2.r1i1p1f1.Amon.clw.gr.v20180727\n",
      "CMIP6.CMIP.IPSL.IPSL-CM6A-LR.1pctCO2.r1i1p1f1.Amon.clwvi.gr.v20180727\n",
      "CMIP6.CMIP.NIMS-KMA.KACE-1-0-G.1pctCO2.r1i1p1f1.Amon.clw.gr.v20190916\n",
      "CMIP6.CMIP.NIMS-KMA.KACE-1-0-G.1pctCO2.r1i1p1f1.Amon.clwvi.gr.v20190916\n",
      "CMIP6.CMIP.THU.CIESM.1pctCO2.r1i1p1f1.Amon.clw.gr.v20200417\n",
      "CMIP6.CMIP.THU.CIESM.1pctCO2.r1i1p1f1.Amon.clwvi.gr.v20200417\n",
      "\n",
      "Finished writing file: CMIP6_pxp581_20200924T094632.txt\n",
      "Do you want to proceed with request for missing files? (N/Y)\n",
      " No is default\n",
      "Your request has been saved in \n",
      " /home/581/pxp581/clef/docs/CMIP6_pxp581_20200924T094632.txt\n",
      "You can use this file to request the data via the NCI helpdesk: help@nci.org.au  or https://help.nci.org.au.\n"
     ]
    }
   ],
   "source": [
    "%%bash\n",
    "clef --request cmip6 -e 1pctCO2 -v clw -v clwvi -t Amon -g gr\n",
    "no"
   ]
  },
  {
   "cell_type": "markdown",
   "metadata": {},
   "source": [
    "We run the same query which gave us as a result 4 missing datasets but this time we used the *--request* option after **clef**.<br>\n",
    "The tool will execute the query remotely, then look for matches locally and on the NCI download list. Having found none gives as an option of putting in a request. <br>\n",
    "It will accept any of the following as a positive answer:\n",
    "> Y  YES y yes <br>\n",
    "\n",
    "With anything else or if you don't pass anything it will assume you don't want to put in a request.<br>\n",
    "It still saved the request in a file we can use later.<br>"
   ]
  },
  {
   "cell_type": "code",
   "execution_count": 16,
   "metadata": {},
   "outputs": [
    {
     "name": "stdout",
     "output_type": "stream",
     "text": [
      "dataset_id=CMIP6.CMIP.CAS.FGOALS-f3-L.1pctCO2.r1i1p1f1.Amon.clw.gr.v20200620\r\n",
      "dataset_id=CMIP6.CMIP.CAS.FGOALS-f3-L.1pctCO2.r1i1p1f1.Amon.clwvi.gr.v20200620\r\n",
      "dataset_id=CMIP6.CMIP.CAS.FGOALS-f3-L.1pctCO2.r2i1p1f1.Amon.clw.gr.v20200620\r\n",
      "dataset_id=CMIP6.CMIP.CAS.FGOALS-f3-L.1pctCO2.r2i1p1f1.Amon.clwvi.gr.v20200620\r\n"
     ]
    }
   ],
   "source": [
    "!head -n 4 CMIP6_*.txt"
   ]
  },
  {
   "cell_type": "markdown",
   "metadata": {},
   "source": [
    "If I answered 'yes' the tool would have sent an e-mail to the NCI helpdesk with the text file attached, NCI can pass that file as input to their download tool and queue your request.\n",
    "NB if you are running clef from gadi you cannot send an e-mail so in that case the tool will remind you you you need to send an e-mail to the NCI helpdesk yourself to finalise the request."
   ]
  },
  {
   "cell_type": "markdown",
   "metadata": {},
   "source": [
    "## Integrating the local query in your scripts"
   ]
  },
  {
   "cell_type": "markdown",
   "metadata": {},
   "source": [
    "Until now we looked at how to run queries from the command line, but you can use use the same query run by the *--local* option directly in your python code. By doing so you also get access to a lot more information on the datasets returned not only the path.<br>\n",
    "To do so we have first to import some functions from the clef.code sub-module. In particular the **search()** function and **connect()** and **Session()** that we'll use to open a connection to the database."
   ]
  },
  {
   "cell_type": "code",
   "execution_count": null,
   "metadata": {},
   "outputs": [],
   "source": [
    "from clef.code import *\n",
    "db = connect()\n",
    "s = Session()"
   ]
  },
  {
   "cell_type": "markdown",
   "metadata": {},
   "source": [
    "### Running search()"
   ]
  },
  {
   "cell_type": "markdown",
   "metadata": {},
   "source": [
    "**search()** takes 4 inputs: the db session, the project (i.e. currently 'cmip5' or 'cmip6'), latest (True or False) and a dictionary containing the query constraints:\n",
    "> search(session, project='CMIP5', latest=True, **kwargs)<br>\n",
    "\n",
    "Let's start by defining some constraints."
   ]
  },
  {
   "cell_type": "code",
   "execution_count": null,
   "metadata": {},
   "outputs": [],
   "source": [
    "constraints = {'variable': 'tas', 'model': 'MIROC5', 'cmor_table': 'day', 'experiment': 'rcp85'}"
   ]
  },
  {
   "cell_type": "markdown",
   "metadata": {},
   "source": [
    "The available keys depend on the project you are querying and the attributes stored by the database. You can use any of the *facets* used for ESGF but in future we will be adding other options based on extra fields which are stored as attributes."
   ]
  },
  {
   "cell_type": "code",
   "execution_count": null,
   "metadata": {},
   "outputs": [],
   "source": [
    "results = search(s, project='CMIP5', **constraints)\n",
    "results"
   ]
  },
  {
   "cell_type": "markdown",
   "metadata": {},
   "source": [
    "Both the keys and values of the constraints get checked before being passed to the query function. This means that if you passed a key or a value that doesn't exist for the chosen project, the function will print a list of valid values and then exit.<br>\n",
    "Let's re-write the constraints dictionary to show an example."
   ]
  },
  {
   "cell_type": "code",
   "execution_count": null,
   "metadata": {
    "scrolled": false
   },
   "outputs": [],
   "source": [
    "constraints = {'v': 'tas', 'm': 'MIROC5', 'table': 'day', 'experiment': 'rcp85', 'activity': 'CMIP'}\n",
    "results = search(s, **constraints)"
   ]
  },
  {
   "cell_type": "markdown",
   "metadata": {},
   "source": [
    "You can see that the function told us 'activity' is not a valid constraints for CMIP5, in fact that can be used only with CMIP6<br>\n",
    "NB. that the search accepted all the other abbreviations, there's a few terms that can be used for each key.<br>\n",
    "The full list of valid keys is available from from the github repository:<br>\n",
    "https://github.com/coecms/clef/blob/master/clef/data/valid_keys.json"
   ]
  },
  {
   "cell_type": "code",
   "execution_count": null,
   "metadata": {},
   "outputs": [],
   "source": [
    "constraints = {'v': 'tas', 'm': 'MIROC5', 'table': 'day', 'experiment': 'rcp85', 'member': 'r1i1p1'}\n",
    "results = search(s, **constraints)\n",
    "results[0]"
   ]
  },
  {
   "cell_type": "markdown",
   "metadata": {},
   "source": [
    "NB that *project* is by default 'CMIP5' so it can be omitted when querying CMIP5 data and *latest* is True by default. Set this to *False* if you want to return all the available versions."
   ]
  },
  {
   "cell_type": "markdown",
   "metadata": {},
   "source": [
    "#### Running search() for different sets of attributes"
   ]
  },
  {
   "cell_type": "markdown",
   "metadata": {},
   "source": [
    "The **search()** function works for one set of attributes, you can specify only one value for each of the attributes at one time. If you want to run a query for two or more different sets of attributes you can call **search()** in a loop. If you have a small numbers of queries then this is easy to implement and run. To make **search()** works for a random number of inputs passed by the command line we set up a function **call_local_query()** that deals with this more efficiently.<br>\n",
    "The arguments are very similar to **search()** with the important difference that we are passing list of values instead of strings:<br>\n",
    ">call_local_query(s, project, oformat, latest, **kwargs)\n",
    "\n",
    "Let's look at an example:"
   ]
  },
  {
   "cell_type": "code",
   "execution_count": null,
   "metadata": {},
   "outputs": [],
   "source": [
    "constraints = {'variable': ['tasmin','tasmax'], 'model': ['MIROC5','MIROC4h'],\n",
    "               'cmor_table': ['day'], 'experiment': ['rcp85'], 'ensemble': ['r1i1p1']}\n",
    "results, paths = call_local_query(s, project='CMIP5', oformat='Dataset', latest=True, **constraints)"
   ]
  },
  {
   "cell_type": "markdown",
   "metadata": {},
   "source": [
    "Because this function was created to deliver results for the command line local query option, as well as the list of results, it also outputs a list of their paths. Under the hood this function works out all the combinations of the arguments you passed and will run **search()** for each of them, before doing so will also run other functions that check that the values and keys passed to the function are valid.<br><br>\n",
    "The extra arguments *oformat* and \"latest\" are necessary to resolve the command line *--format* and *--latest* option respectively. The first can be 'file' or 'dataset', with the last being the default. It influences the *paths* output but no *results* which will contain all the datasets information including filenames."
   ]
  },
  {
   "cell_type": "markdown",
   "metadata": {},
   "source": [
    "### AND Filter"
   ]
  },
  {
   "cell_type": "markdown",
   "metadata": {},
   "source": [
    "We started adding additional features to CleF which allows more complex queries. We started from the following case.\n",
    "Let's say that you want to find all the CMIP6 models that have both daily precipitation (pr) and soil moisture (mrso) for a particular experiment(historical). Up to now you would had to select separately both variables and then work out which models had both on your own."
   ]
  },
  {
   "cell_type": "markdown",
   "metadata": {},
   "source": [
    "We will show how this work starting by using the actual function interactively. There is also a command line option but it returns only a list of the models.<br>\n",
    "First of all, since we are potentially passing more than one value to the query we are using lists in our *constraints* dictionary.<br>\n",
    "Then we need to define the attributes for which we want all values to be present, only *variable_id* in this case.\n",
    "Finally we tell the function which attributes define a simulation, this would most often be *model* and *member*."
   ]
  },
  {
   "cell_type": "code",
   "execution_count": null,
   "metadata": {
    "scrolled": true
   },
   "outputs": [],
   "source": [
    "constraints = {'variable_id': ['pr','mrso'], 'frequency': ['mon'], 'experiment_id': ['historical']}\n",
    "allvalues = ['variable_id']\n",
    "fixed = ['source_id', 'member_id']\n",
    "results, selection = matching(s, allvalues, fixed, project='CMIP6', **constraints)"
   ]
  },
  {
   "cell_type": "markdown",
   "metadata": {},
   "source": [
    "The function returns the selected models/members combinations that have both variables and the corresponding subset of the original query *results*.<br>\n",
    "NB currently using the abbreviated version for the constraints keys won't work, you will have to use the attributes full names.<br><br>\n",
    "You can see by printing the length of both lists and one of the first item of *selection* that the results have been grouped by models/ensembles and then filtered."
   ]
  },
  {
   "cell_type": "code",
   "execution_count": null,
   "metadata": {},
   "outputs": [],
   "source": [
    "print(len(results),len(selection))\n",
    "selection[0]"
   ]
  },
  {
   "cell_type": "markdown",
   "metadata": {},
   "source": [
    "The full definition the **matching()** shows all the function arguments:<br>\n",
    ">matching(session, cols, fixed, project='CMIP5', local=True, latest=True, **kwargs)\n",
    "\n",
    "From this you can see that like **search()**  by default *project* is 'CMIP5' and *latest* is True. We didn't have to use yet the *local* argument which is True by default, we will see examples later where is set to False so we can do the same query remotely."
   ]
  },
  {
   "cell_type": "markdown",
   "metadata": {},
   "source": [
    "#### AND filter on more than one attribute"
   ]
  },
  {
   "cell_type": "markdown",
   "metadata": {},
   "source": [
    "We can pass more than value for more than one attribute, let's add *piControl* to the experiment list."
   ]
  },
  {
   "cell_type": "code",
   "execution_count": null,
   "metadata": {
    "scrolled": true
   },
   "outputs": [],
   "source": [
    "constraints = {'variable_id': ['pr','mrso'], 'frequency': ['mon'], 'experiment_id': ['historical', 'piControl']}\n",
    "results, selection = matching(s, allvalues, fixed, project='CMIP6', **constraints)\n",
    "print(len(results),len(selection))\n",
    "selection[0]"
   ]
  },
  {
   "cell_type": "markdown",
   "metadata": {},
   "source": [
    "As you can see we get now many more results but only a few more combinations after applying the filter.<br>\n",
    "This is because we are still defining a simulation by using model and member combinations we haven't included experiment and the results for the two experiments are grouped together, to fix this we need to add *experiment_id* to the *fixed* list."
   ]
  },
  {
   "cell_type": "code",
   "execution_count": null,
   "metadata": {
    "scrolled": true
   },
   "outputs": [],
   "source": [
    "fixed = ['source_id', 'member_id','experiment_id']\n",
    "results, selection = matching(s, allvalues, fixed, project='CMIP6', **constraints)\n",
    "print(len(results),len(selection))\n",
    "selection[0]"
   ]
  },
  {
   "cell_type": "markdown",
   "metadata": {},
   "source": [
    "If we wanted to find all models/members combinations which have both variables and both experiments, then we should have kept *fixed* as it was and add *experiment_id* to the *allvalues* list instead."
   ]
  },
  {
   "cell_type": "code",
   "execution_count": null,
   "metadata": {
    "scrolled": true
   },
   "outputs": [],
   "source": [
    "allvalues = ['variable_id', 'experiment_id']\n",
    "fixed=['source_id','member_id']\n",
    "results, selection = matching(s, allvalues, fixed, project='CMIP6', **constraints)\n",
    "print(len(results),len(selection))\n",
    "selection[0]"
   ]
  },
  {
   "cell_type": "markdown",
   "metadata": {},
   "source": [
    "#### AND filter applied to remote ESGF query"
   ]
  },
  {
   "cell_type": "markdown",
   "metadata": {},
   "source": [
    "You can of course do the same query for CMIP5, in that case you can omit *project* when calling the function since its default value is 'CMIP5'.<br>\n",
    "Another default option is *local=True*, this says the function to perfom this query directly on the local database if you want you can perform the same query on the ESGF database, so you can see what has been published."
   ]
  },
  {
   "cell_type": "code",
   "execution_count": null,
   "metadata": {
    "scrolled": true
   },
   "outputs": [],
   "source": [
    "constraints = {'variable': ['tasmin','tasmax'], 'cmor_table': ['Amon'], 'experiment': ['historical','rcp26', 'rcp85']}\n",
    "allvalues = ['variable', 'experiment']\n",
    "fixed=['model','ensemble']\n",
    "results, selection = matching(s, allvalues, fixed, local=False, **constraints)\n",
    "print(len(results),len(selection))\n",
    "selection[0]"
   ]
  },
  {
   "cell_type": "markdown",
   "metadata": {},
   "source": [
    "Please note how I used different attributes names because we are querying CMIP5 now. <br>\n",
    "*comb* highlights all the combinations that have to be present for a model/ensemble to be returned while we are getting a dataset_id rather than a directory path."
   ]
  },
  {
   "cell_type": "markdown",
   "metadata": {},
   "source": [
    "#### AND filter on the command line"
   ]
  },
  {
   "cell_type": "markdown",
   "metadata": {},
   "source": [
    "The command line version of **matching** can be called using the *--and* flag followed by the attribute for which we want all values, the flag can be used more than once. By default model/ensemble combinations define a simulation, and only model, ensemble and version are returned as final result."
   ]
  },
  {
   "cell_type": "code",
   "execution_count": null,
   "metadata": {},
   "outputs": [],
   "source": [
    "!clef --local cmip5 -v tasmin -v tasmax -e rcp26 -e rcp85 -e historical -t Amon --and variable"
   ]
  },
  {
   "cell_type": "markdown",
   "metadata": {},
   "source": [
    "The same will work for *--remote* and *cmip6*"
   ]
  },
  {
   "cell_type": "code",
   "execution_count": null,
   "metadata": {
    "scrolled": true
   },
   "outputs": [],
   "source": [
    "!clef --remote cmip6 -v pr -v mrso -e piControl  -mi r1i1p1f1 --frequency mon --and variable_id"
   ]
  },
  {
   "cell_type": "markdown",
   "metadata": {},
   "source": [
    "## New features"
   ]
  },
  {
   "cell_type": "markdown",
   "metadata": {},
   "source": [
    "We recently added new output features following a user request.<br>\n",
    "These are currently only available in the analysis3-unstable environment<br>"
   ]
  },
  {
   "cell_type": "code",
   "execution_count": null,
   "metadata": {},
   "outputs": [],
   "source": [
    "# !module load conda/analysis3-unstable"
   ]
  },
  {
   "cell_type": "markdown",
   "metadata": {},
   "source": [
    "### CSV file output"
   ]
  },
  {
   "cell_type": "markdown",
   "metadata": {},
   "source": [
    "The *--csv* option added to the command line will output the query results in a csv file. Rather than getting only the files path, it will list all the available attributes.<br>\n",
    "This currently works only with the *--local* and *--remote* option, it doesn't yet work for the standard search, which is basically a combination of the two."
   ]
  },
  {
   "cell_type": "code",
   "execution_count": 3,
   "metadata": {
    "collapsed": true
   },
   "outputs": [
    {
     "name": "stdout",
     "output_type": "stream",
     "text": [
      "/g/data/al33/replicas/CMIP5/combined/BCC/bcc-csm1-1-m/piControl/mon/atmos/Amon/r1i1p1/v20120705/pr\r\n",
      "/g/data/al33/replicas/CMIP5/combined/BCC/bcc-csm1-1/piControl/mon/atmos/Amon/r1i1p1/v1/pr\r\n",
      "/g/data/al33/replicas/CMIP5/combined/BNU/BNU-ESM/piControl/mon/atmos/Amon/r1i1p1/v20120626/pr\r\n",
      "/g/data/al33/replicas/CMIP5/combined/CCCma/CanESM2/piControl/mon/atmos/Amon/r1i1p1/v20120412/pr\r\n",
      "/g/data/al33/replicas/CMIP5/combined/CCCma/CanESM2/piControl/mon/atmos/Amon/r1i1p1/v20120623/pr\r\n",
      "/g/data/al33/replicas/CMIP5/combined/CMCC/CMCC-CESM/piControl/mon/atmos/Amon/r1i1p1/v20121023/pr\r\n",
      "/g/data/al33/replicas/CMIP5/combined/CMCC/CMCC-CESM/piControl/mon/atmos/Amon/r1i1p1/v20170725/pr\r\n",
      "/g/data/al33/replicas/CMIP5/combined/CMCC/CMCC-CM/piControl/mon/atmos/Amon/r1i1p1/v20121008/pr\r\n",
      "/g/data/al33/replicas/CMIP5/combined/CMCC/CMCC-CM/piControl/mon/atmos/Amon/r1i1p1/v20170725/pr\r\n",
      "/g/data/al33/replicas/CMIP5/combined/CMCC/CMCC-CMS/piControl/mon/atmos/Amon/r1i1p1/v20120717/pr\r\n",
      "/g/data/al33/replicas/CMIP5/combined/CMCC/CMCC-CMS/piControl/mon/atmos/Amon/r1i1p1/v20170725/pr\r\n",
      "/g/data/al33/replicas/CMIP5/combined/CNRM-CERFACS/CNRM-CM5/piControl/mon/atmos/Amon/r1i1p1/v20110701/pr\r\n",
      "/g/data/al33/replicas/CMIP5/combined/FIO/FIO-ESM/piControl/mon/atmos/Amon/r1i1p1/v20120522/pr\r\n",
      "/g/data/al33/replicas/CMIP5/combined/FIO/fio-esm/piControl/mon/atmos/Amon/r1i1p1/v20120522/pr\r\n",
      "/g/data/al33/replicas/CMIP5/combined/ICHEC/EC-EARTH/piControl/mon/atmos/Amon/r1i1p1/v20120622/pr\r\n",
      "/g/data/al33/replicas/CMIP5/combined/ICHEC/EC-EARTH/piControl/mon/atmos/Amon/r1i1p1/v20131120/pr\r\n",
      "/g/data/al33/replicas/CMIP5/combined/INM/inmcm4/piControl/mon/atmos/Amon/r1i1p1/v20130207/pr\r\n",
      "/g/data/al33/replicas/CMIP5/combined/IPSL/IPSL-CM5A-LR/piControl/mon/atmos/Amon/r1i1p1/v20130506/pr\r\n",
      "/g/data/al33/replicas/CMIP5/combined/IPSL/IPSL-CM5A-MR/piControl/mon/atmos/Amon/r1i1p1/v20111119/pr\r\n",
      "/g/data/al33/replicas/CMIP5/combined/IPSL/IPSL-CM5B-LR/piControl/mon/atmos/Amon/r1i1p1/v20120114/pr\r\n",
      "/g/data/al33/replicas/CMIP5/combined/LASG-CESS/FGOALS-g2/piControl/mon/atmos/Amon/r1i1p1/v1/pr\r\n",
      "/g/data/al33/replicas/CMIP5/combined/LASG-CESS/FGOALS-g2/piControl/mon/atmos/Amon/r1i1p1/v20161204/pr\r\n",
      "/g/data/al33/replicas/CMIP5/combined/LASG-IAP/FGOALS-s2/piControl/mon/atmos/Amon/r1i1p1/v20161204/pr\r\n",
      "/g/data/al33/replicas/CMIP5/combined/LASG-IAP/FGOALS-s2/piControl/mon/atmos/Amon/r1i1p1/v4/pr\r\n",
      "/g/data/al33/replicas/CMIP5/combined/MIROC/MIROC-ESM-CHEM/piControl/mon/atmos/Amon/r1i1p1/v20120710/pr\r\n",
      "/g/data/al33/replicas/CMIP5/combined/MIROC/MIROC-ESM/piControl/mon/atmos/Amon/r1i1p1/v20120710/pr\r\n",
      "/g/data/al33/replicas/CMIP5/combined/MIROC/MIROC4h/piControl/mon/atmos/Amon/r1i1p1/v20120628/pr\r\n",
      "/g/data/al33/replicas/CMIP5/combined/MIROC/MIROC5/piControl/mon/atmos/Amon/r1i1p1/v20161012/pr\r\n",
      "/g/data/al33/replicas/CMIP5/combined/MOHC/HadGEM2-CC/piControl/mon/atmos/Amon/r1i1p1/v20111109/pr\r\n",
      "/g/data/al33/replicas/CMIP5/combined/MOHC/HadGEM2-ES/piControl/mon/atmos/Amon/r1i1p1/v20110524/pr\r\n",
      "/g/data/al33/replicas/CMIP5/combined/MPI-M/MPI-ESM-LR/piControl/mon/atmos/Amon/r1i1p1/v20120602/pr\r\n",
      "/g/data/al33/replicas/CMIP5/combined/MPI-M/MPI-ESM-MR/piControl/mon/atmos/Amon/r1i1p1/v20120602/pr\r\n",
      "/g/data/al33/replicas/CMIP5/combined/MPI-M/MPI-ESM-P/piControl/mon/atmos/Amon/r1i1p1/v20120602/pr\r\n",
      "/g/data/al33/replicas/CMIP5/combined/MRI/MRI-CGCM3/piControl/mon/atmos/Amon/r1i1p1/v20120701/pr\r\n",
      "/g/data/al33/replicas/CMIP5/combined/NASA-GISS/GISS-E2-H-CC/piControl/mon/atmos/Amon/r1i1p1/v20160511/pr\r\n",
      "/g/data/al33/replicas/CMIP5/combined/NASA-GISS/GISS-E2-H/piControl/mon/atmos/Amon/r1i1p1/v20160511/pr\r\n",
      "/g/data/al33/replicas/CMIP5/combined/NASA-GISS/GISS-E2-R-CC/piControl/mon/atmos/Amon/r1i1p1/v20160802/pr\r\n",
      "/g/data/al33/replicas/CMIP5/combined/NASA-GISS/GISS-E2-R/piControl/mon/atmos/Amon/r1i1p1/v20161004/pr\r\n",
      "/g/data/al33/replicas/CMIP5/combined/NCAR/CCSM4/piControl/mon/atmos/Amon/r1i1p1/v20130325/pr\r\n",
      "/g/data/al33/replicas/CMIP5/combined/NCAR/CCSM4/piControl/mon/atmos/Amon/r1i1p1/v20130510/pr\r\n",
      "/g/data/al33/replicas/CMIP5/combined/NCAR/CCSM4/piControl/mon/atmos/Amon/r1i1p1/v20160829/pr\r\n",
      "/g/data/al33/replicas/CMIP5/combined/NCC/NorESM1-M/piControl/mon/atmos/Amon/r1i1p1/v20110901/pr\r\n",
      "/g/data/al33/replicas/CMIP5/combined/NCC/NorESM1-M/piControl/mon/atmos/Amon/r1i1p1/v20120412/pr\r\n",
      "/g/data/al33/replicas/CMIP5/combined/NCC/NorESM1-M/piControl/mon/atmos/Amon/r1i1p1/v20200617/pr\r\n",
      "/g/data/al33/replicas/CMIP5/combined/NCC/NorESM1-ME/piControl/mon/atmos/Amon/r1i1p1/v20120225/pr\r\n",
      "/g/data/al33/replicas/CMIP5/combined/NCC/NorESM1-ME/piControl/mon/atmos/Amon/r1i1p1/v20130926/pr\r\n",
      "/g/data/al33/replicas/CMIP5/combined/NCC/NorESM1-ME/piControl/mon/atmos/Amon/r1i1p1/v20200617/pr\r\n",
      "/g/data/al33/replicas/CMIP5/combined/NIMR-KMA/HadGEM2-AO/piControl/mon/atmos/Amon/r1i1p1/v20130815/pr\r\n",
      "/g/data/al33/replicas/CMIP5/combined/NOAA-GFDL/GFDL-CM3/piControl/mon/atmos/Amon/r1i1p1/v20120227/pr\r\n",
      "/g/data/al33/replicas/CMIP5/combined/NOAA-GFDL/GFDL-ESM2G/piControl/mon/atmos/Amon/r1i1p1/v20120830/pr\r\n",
      "/g/data/al33/replicas/CMIP5/combined/NOAA-GFDL/GFDL-ESM2M/piControl/mon/atmos/Amon/r1i1p1/v20130214/pr\r\n",
      "/g/data/al33/replicas/CMIP5/combined/NSF-DOE-NCAR/CESM1-BGC/piControl/mon/atmos/Amon/r1i1p1/v20130216/pr\r\n",
      "/g/data/al33/replicas/CMIP5/combined/NSF-DOE-NCAR/CESM1-CAM5/piControl/mon/atmos/Amon/r1i1p1/v20130313/pr\r\n",
      "/g/data/al33/replicas/CMIP5/combined/NSF-DOE-NCAR/CESM1-FASTCHEM/piControl/mon/atmos/Amon/r1i1p1/v20121029/pr\r\n",
      "/g/data/al33/replicas/CMIP5/combined/NSF-DOE-NCAR/CESM1-WACCM/piControl/mon/atmos/Amon/r1i1p1/v20130325/pr\r\n",
      "/g/data/rr3/publications/CMIP5/output1/CSIRO-BOM/ACCESS1-0/piControl/mon/atmos/Amon/r1i1p1/latest/pr\r\n",
      "/g/data/rr3/publications/CMIP5/output1/CSIRO-BOM/ACCESS1-3/piControl/mon/atmos/Amon/r1i1p1/latest/pr\r\n",
      "/g/data/rr3/publications/CMIP5/output1/CSIRO-QCCCE/CSIRO-Mk3-6-0/piControl/mon/atmos/Amon/r1i1p1/files/pr_20110518\r\n",
      "/g/data/rr3/publications/PMIP3/output/UNSW/CSIRO-Mk3L-1-2/piControl/mon/atmos/Amon/r1i1p1/files/pr_20170728\r\n",
      "/g/data/rr3/publications/PMIP3/output/UNSW/CSIRO-Mk3L-1-2/piControl/mon/atmos/Amon/r1i1p1/v20170728/pr\r\n",
      "/g/data/al33/replicas/CMIP5/combined/BCC/bcc-csm1-1-m/piControl/mon/atmos/Amon/r1i1p1/v20120705/tas\r\n",
      "/g/data/al33/replicas/CMIP5/combined/BCC/bcc-csm1-1/piControl/mon/atmos/Amon/r1i1p1/v1/tas\r\n",
      "/g/data/al33/replicas/CMIP5/combined/BNU/BNU-ESM/piControl/mon/atmos/Amon/r1i1p1/v20120626/tas\r\n",
      "/g/data/al33/replicas/CMIP5/combined/CCCma/CanESM2/piControl/mon/atmos/Amon/r1i1p1/v20120412/tas\r\n",
      "/g/data/al33/replicas/CMIP5/combined/CCCma/CanESM2/piControl/mon/atmos/Amon/r1i1p1/v20120623/tas\r\n",
      "/g/data/al33/replicas/CMIP5/combined/CMCC/CMCC-CESM/piControl/mon/atmos/Amon/r1i1p1/v20121023/tas\r\n",
      "/g/data/al33/replicas/CMIP5/combined/CMCC/CMCC-CESM/piControl/mon/atmos/Amon/r1i1p1/v20170725/tas\r\n",
      "/g/data/al33/replicas/CMIP5/combined/CMCC/CMCC-CM/piControl/mon/atmos/Amon/r1i1p1/v20121008/tas\r\n",
      "/g/data/al33/replicas/CMIP5/combined/CMCC/CMCC-CM/piControl/mon/atmos/Amon/r1i1p1/v20170725/tas\r\n",
      "/g/data/al33/replicas/CMIP5/combined/CMCC/CMCC-CMS/piControl/mon/atmos/Amon/r1i1p1/v20120717/tas\r\n",
      "/g/data/al33/replicas/CMIP5/combined/CMCC/CMCC-CMS/piControl/mon/atmos/Amon/r1i1p1/v20170725/tas\r\n",
      "/g/data/al33/replicas/CMIP5/combined/CNRM-CERFACS/CNRM-CM5-2/piControl/mon/atmos/Amon/r1i1p1/v20130402/tas\r\n",
      "/g/data/al33/replicas/CMIP5/combined/CNRM-CERFACS/CNRM-CM5/piControl/mon/atmos/Amon/r1i1p1/v20110701/tas\r\n",
      "/g/data/al33/replicas/CMIP5/combined/FIO/FIO-ESM/piControl/mon/atmos/Amon/r1i1p1/v20120522/tas\r\n",
      "/g/data/al33/replicas/CMIP5/combined/FIO/fio-esm/piControl/mon/atmos/Amon/r1i1p1/v20120522/tas\r\n",
      "/g/data/al33/replicas/CMIP5/combined/ICHEC/EC-EARTH/piControl/mon/atmos/Amon/r1i1p1/v20120622/tas\r\n",
      "/g/data/al33/replicas/CMIP5/combined/ICHEC/EC-EARTH/piControl/mon/atmos/Amon/r1i1p1/v20131120/tas\r\n",
      "/g/data/al33/replicas/CMIP5/combined/INM/inmcm4/piControl/mon/atmos/Amon/r1i1p1/v20130207/tas\r\n",
      "/g/data/al33/replicas/CMIP5/combined/IPSL/IPSL-CM5A-LR/piControl/mon/atmos/Amon/r1i1p1/v20130506/tas\r\n",
      "/g/data/al33/replicas/CMIP5/combined/IPSL/IPSL-CM5A-MR/piControl/mon/atmos/Amon/r1i1p1/v20111119/tas\r\n",
      "/g/data/al33/replicas/CMIP5/combined/IPSL/IPSL-CM5B-LR/piControl/mon/atmos/Amon/r1i1p1/v20120114/tas\r\n",
      "/g/data/al33/replicas/CMIP5/combined/LASG-CESS/FGOALS-g2/piControl/mon/atmos/Amon/r1i1p1/v1/tas\r\n",
      "/g/data/al33/replicas/CMIP5/combined/LASG-CESS/FGOALS-g2/piControl/mon/atmos/Amon/r1i1p1/v20161204/tas\r\n",
      "/g/data/al33/replicas/CMIP5/combined/LASG-IAP/FGOALS-s2/piControl/mon/atmos/Amon/r1i1p1/v20161204/tas\r\n",
      "/g/data/al33/replicas/CMIP5/combined/LASG-IAP/FGOALS-s2/piControl/mon/atmos/Amon/r1i1p1/v4/tas\r\n",
      "/g/data/al33/replicas/CMIP5/combined/MIROC/MIROC-ESM-CHEM/piControl/mon/atmos/Amon/r1i1p1/v20120710/tas\r\n",
      "/g/data/al33/replicas/CMIP5/combined/MIROC/MIROC-ESM/piControl/mon/atmos/Amon/r1i1p1/v20120710/tas\r\n",
      "/g/data/al33/replicas/CMIP5/combined/MIROC/MIROC4h/piControl/mon/atmos/Amon/r1i1p1/v20120628/tas\r\n",
      "/g/data/al33/replicas/CMIP5/combined/MIROC/MIROC5/piControl/mon/atmos/Amon/r1i1p1/v20161012/tas\r\n",
      "/g/data/al33/replicas/CMIP5/combined/MOHC/HadGEM2-CC/piControl/mon/atmos/Amon/r1i1p1/v20111109/tas\r\n",
      "/g/data/al33/replicas/CMIP5/combined/MOHC/HadGEM2-ES/piControl/mon/atmos/Amon/r1i1p1/v20110524/tas\r\n",
      "/g/data/al33/replicas/CMIP5/combined/MPI-M/MPI-ESM-LR/piControl/mon/atmos/Amon/r1i1p1/v20120602/tas\r\n",
      "/g/data/al33/replicas/CMIP5/combined/MPI-M/MPI-ESM-MR/piControl/mon/atmos/Amon/r1i1p1/v20120602/tas\r\n",
      "/g/data/al33/replicas/CMIP5/combined/MPI-M/MPI-ESM-P/piControl/mon/atmos/Amon/r1i1p1/v20120602/tas\r\n",
      "/g/data/al33/replicas/CMIP5/combined/MRI/MRI-CGCM3/piControl/mon/atmos/Amon/r1i1p1/v20120701/tas\r\n",
      "/g/data/al33/replicas/CMIP5/combined/NASA-GISS/GISS-E2-H-CC/piControl/mon/atmos/Amon/r1i1p1/v20160511/tas\r\n",
      "/g/data/al33/replicas/CMIP5/combined/NASA-GISS/GISS-E2-H/piControl/mon/atmos/Amon/r1i1p1/v20160511/tas\r\n",
      "/g/data/al33/replicas/CMIP5/combined/NASA-GISS/GISS-E2-R-CC/piControl/mon/atmos/Amon/r1i1p1/v20160802/tas\r\n",
      "/g/data/al33/replicas/CMIP5/combined/NASA-GISS/GISS-E2-R/piControl/mon/atmos/Amon/r1i1p1/v20161004/tas\r\n",
      "/g/data/al33/replicas/CMIP5/combined/NCAR/CCSM4/piControl/mon/atmos/Amon/r1i1p1/v20130325/tas\r\n",
      "/g/data/al33/replicas/CMIP5/combined/NCAR/CCSM4/piControl/mon/atmos/Amon/r1i1p1/v20130510/tas\r\n",
      "/g/data/al33/replicas/CMIP5/combined/NCAR/CCSM4/piControl/mon/atmos/Amon/r1i1p1/v20160829/tas\r\n",
      "/g/data/al33/replicas/CMIP5/combined/NCC/NorESM1-M/piControl/mon/atmos/Amon/r1i1p1/v20110901/tas\r\n",
      "/g/data/al33/replicas/CMIP5/combined/NCC/NorESM1-M/piControl/mon/atmos/Amon/r1i1p1/v20120412/tas\r\n",
      "/g/data/al33/replicas/CMIP5/combined/NCC/NorESM1-M/piControl/mon/atmos/Amon/r1i1p1/v20200617/tas\r\n",
      "/g/data/al33/replicas/CMIP5/combined/NCC/NorESM1-ME/piControl/mon/atmos/Amon/r1i1p1/v20120225/tas\r\n",
      "/g/data/al33/replicas/CMIP5/combined/NCC/NorESM1-ME/piControl/mon/atmos/Amon/r1i1p1/v20130926/tas\r\n",
      "/g/data/al33/replicas/CMIP5/combined/NCC/NorESM1-ME/piControl/mon/atmos/Amon/r1i1p1/v20200617/tas\r\n",
      "/g/data/al33/replicas/CMIP5/combined/NIMR-KMA/HadGEM2-AO/piControl/mon/atmos/Amon/r1i1p1/v20130815/tas\r\n",
      "/g/data/al33/replicas/CMIP5/combined/NOAA-GFDL/GFDL-CM3/piControl/mon/atmos/Amon/r1i1p1/v20120227/tas\r\n",
      "/g/data/al33/replicas/CMIP5/combined/NOAA-GFDL/GFDL-ESM2G/piControl/mon/atmos/Amon/r1i1p1/v20120830/tas\r\n",
      "/g/data/al33/replicas/CMIP5/combined/NOAA-GFDL/GFDL-ESM2M/piControl/mon/atmos/Amon/r1i1p1/v20130214/tas\r\n",
      "/g/data/al33/replicas/CMIP5/combined/NSF-DOE-NCAR/CESM1-BGC/piControl/mon/atmos/Amon/r1i1p1/v20130216/tas\r\n",
      "/g/data/al33/replicas/CMIP5/combined/NSF-DOE-NCAR/CESM1-CAM5/piControl/mon/atmos/Amon/r1i1p1/v20130313/tas\r\n",
      "/g/data/al33/replicas/CMIP5/combined/NSF-DOE-NCAR/CESM1-FASTCHEM/piControl/mon/atmos/Amon/r1i1p1/v20121029/tas\r\n",
      "/g/data/al33/replicas/CMIP5/combined/NSF-DOE-NCAR/CESM1-WACCM/piControl/mon/atmos/Amon/r1i1p1/v20130325/tas\r\n",
      "/g/data/rr3/publications/CMIP5/output1/CSIRO-BOM/ACCESS1-0/piControl/mon/atmos/Amon/r1i1p1/latest/tas\r\n",
      "/g/data/rr3/publications/CMIP5/output1/CSIRO-BOM/ACCESS1-3/piControl/mon/atmos/Amon/r1i1p1/latest/tas\r\n",
      "/g/data/rr3/publications/CMIP5/output1/CSIRO-QCCCE/CSIRO-Mk3-6-0/piControl/mon/atmos/Amon/r1i1p1/files/tas_20110518\r\n",
      "/g/data/rr3/publications/PMIP3/output/UNSW/CSIRO-Mk3L-1-2/piControl/mon/atmos/Amon/r1i1p1/files/tas_20170728\r\n",
      "/g/data/rr3/publications/PMIP3/output/UNSW/CSIRO-Mk3L-1-2/piControl/mon/atmos/Amon/r1i1p1/v20170728/tas\r\n"
     ]
    }
   ],
   "source": [
    "!clef --local cmip5 -v pr -v tas -e piControl  -en r1i1p1 -t Amon --csv"
   ]
  },
  {
   "cell_type": "code",
   "execution_count": 4,
   "metadata": {},
   "outputs": [
    {
     "name": "stdout",
     "output_type": "stream",
     "text": [
      ",model,experiment,frequency,ensemble,cmor_table,version,variable,path\r\n",
      "0,BCC-CSM1.1(m),piControl,mon,r1i1p1,Amon,20120705,pr,/g/data/al33/replicas/CMIP5/combined/BCC/bcc-csm1-1-m/piControl/mon/atmos/Amon/r1i1p1/v20120705/pr\r\n",
      "1,BCC-CSM1.1,piControl,mon,r1i1p1,Amon,1,pr,/g/data/al33/replicas/CMIP5/combined/BCC/bcc-csm1-1/piControl/mon/atmos/Amon/r1i1p1/v1/pr\r\n",
      "2,BNU-ESM,piControl,mon,r1i1p1,Amon,20120626,pr,/g/data/al33/replicas/CMIP5/combined/BNU/BNU-ESM/piControl/mon/atmos/Amon/r1i1p1/v20120626/pr\r\n"
     ]
    }
   ],
   "source": [
    "!head -n 4 CMIP5_query.csv"
   ]
  },
  {
   "cell_type": "markdown",
   "metadata": {},
   "source": [
    "In the first example I am passing *--csv* to a CMIP5 query with the *--local* option set.<br> \n",
    "I am hiding the cell output but the tool still prints the results on the display as well as creating the csv file.<br>\n",
    "The following example demonstrate how *--csv* works also for remote CMIP6 queries and with the flag *--and* which allows for more complex filtering of the data and that we haven't looked at yet."
   ]
  },
  {
   "cell_type": "code",
   "execution_count": 5,
   "metadata": {
    "collapsed": true
   },
   "outputs": [
    {
     "name": "stdout",
     "output_type": "stream",
     "text": [
      "ACCESS-CM2-r1i1p1f1:  v20191112\r\n",
      "ACCESS-ESM1-5-r1i1p1f1:  v20191214\r\n",
      "AWI-ESM-1-1-LR-r1i1p1f1:  v20200212\r\n",
      "BCC-CSM2-MR-r1i1p1f1:  v20181012, v20181016\r\n",
      "BCC-ESM1-r1i1p1f1:  v20181214, v20181211\r\n",
      "CAMS-CSM1-0-r1i1p1f1:  v20190729, v20191212\r\n",
      "CESM2-r1i1p1f1:  v20190320\r\n",
      "CESM2-FV2-r1i1p1f1:  v20191120\r\n",
      "CESM2-WACCM-r1i1p1f1:  v20190320\r\n",
      "CESM2-WACCM-FV2-r1i1p1f1:  v20191120\r\n",
      "CIESM-r1i1p1f1:  v20200417\r\n",
      "CMCC-CM2-SR5-r1i1p1f1:  v20200616\r\n",
      "CanESM5-r1i1p1f1:  v20190429\r\n",
      "E3SM-1-0-r1i1p1f1:  v20190719, v20190807\r\n",
      "E3SM-1-1-r1i1p1f1:  v20191029, v20191203, v20200324\r\n",
      "E3SM-1-1-ECA-r1i1p1f1:  v20191216, v20191218\r\n",
      "EC-Earth3-r1i1p1f1:  v20200312\r\n",
      "EC-Earth3-Veg-r1i1p1f1:  v20200226\r\n",
      "GISS-E2-1-G-r1i1p1f1:  v20180824\r\n",
      "GISS-E2-1-H-r1i1p1f1:  v20190410\r\n",
      "GISS-E2-2-G-r1i1p1f1:  v20191120\r\n",
      "HadGEM3-GC31-LL-r1i1p1f1:  v20190628\r\n",
      "HadGEM3-GC31-MM-r1i1p1f1:  v20190920\r\n",
      "INM-CM4-8-r1i1p1f1:  v20190605\r\n",
      "INM-CM5-0-r1i1p1f1:  v20190619\r\n",
      "IPSL-CM6A-LR-r1i1p1f1:  v20200326\r\n",
      "MCM-UA-1-0-r1i1p1f1:  v20191017, v20190731\r\n",
      "MIROC6-r1i1p1f1:  v20181212, v20190311\r\n",
      "MPI-ESM-1-2-HAM-r1i1p1f1:  v20190627\r\n",
      "MPI-ESM1-2-HR-r1i1p1f1:  v20190710\r\n",
      "MPI-ESM1-2-LR-r1i1p1f1:  v20190710\r\n",
      "MRI-ESM2-0-r1i1p1f1:  v20190603, v20190222\r\n",
      "NorCPM1-r1i1p1f1:  v20190914\r\n",
      "NorESM2-LM-r1i1p1f1:  v20200217, v20190920\r\n",
      "NorESM2-MM-r1i1p1f1:  v20191108\r\n",
      "SAM0-UNICON-r1i1p1f1:  v20190910\r\n",
      "TaiESM1-r1i1p1f1:  v20200302, v20200211\r\n",
      "ERROR: 'project'\r\n"
     ]
    }
   ],
   "source": [
    "!clef --remote cmip6 -v pr -v mrso -e piControl  -mi r1i1p1f1 --frequency mon --and variable_id --csv"
   ]
  },
  {
   "cell_type": "code",
   "execution_count": 6,
   "metadata": {},
   "outputs": [
    {
     "name": "stdout",
     "output_type": "stream",
     "text": [
      "activity_id,source_id,source_type,experiment_id,sub_experiment_id,frequency,r,i,p,f,variant_label,member_id,variable_id,grid_label,nominal_resolution,table_id,version,variable,pdir,fdate,tdate,time_complete\r",
      "\r\n",
      "CMIP,BCC-CSM2-MR,AOGCM,piControl,none,mon,1,1,1,1,r1i1p1f1,r1i1p1f1,pr,gn,100 km,Amon,v20181016,pr,/g/data1b/oi10/replicas/CMIP6/CMIP/BCC/BCC-CSM2-MR/piControl/r1i1p1f1/Amon/pr/gn/v20181016,18500101,24491231,True\r",
      "\r\n",
      "CMIP,BCC-ESM1,AER AOGCM BGC,piControl,none,mon,1,1,1,1,r1i1p1f1,r1i1p1f1,pr,gn,250 km,Amon,v20181214,pr,/g/data1b/oi10/replicas/CMIP6/CMIP/BCC/BCC-ESM1/piControl/r1i1p1f1/Amon/pr/gn/v20181214,18500101,23001231,True\r",
      "\r\n",
      "CMIP,CAMS-CSM1-0,AOGCM,piControl,none,mon,1,1,1,1,r1i1p1f1,r1i1p1f1,pr,gn,100 km,Amon,v20190729,pr,/g/data1b/oi10/replicas/CMIP6/CMIP/CAMS/CAMS-CSM1-0/piControl/r1i1p1f1/Amon/pr/gn/v20190729,29000101,33991231,True\r",
      "\r\n"
     ]
    }
   ],
   "source": [
    "!head -n 4 CMIP6_query.csv"
   ]
  },
  {
   "cell_type": "markdown",
   "metadata": {},
   "source": [
    "### Query summary option"
   ]
  },
  {
   "cell_type": "markdown",
   "metadata": {},
   "source": [
    "The *--stats* option added to the command line will print a summary of the query results<br>\n",
    "It works for both *--local* and *--remote* options, but not with the default query.<br>\n",
    "Currently it prints the following:\n",
    "* total number of models, followed by their names\n",
    "* total number of unique model-ensembles/members combinations\n",
    "* number of models that have N ensembles/members, followed by their names"
   ]
  },
  {
   "cell_type": "code",
   "execution_count": 11,
   "metadata": {},
   "outputs": [
    {
     "name": "stdout",
     "output_type": "stream",
     "text": [
      "\r\n",
      "Query summary\r\n",
      "\r\n",
      "42 model/s are available:\r\n",
      "ACCESS1.0 ACCESS1.3 BCC-CSM1.1 BCC-CSM1.1(m) BNU-ESM CCSM4 CESM1(BGC) CESM1(CAM5) CESM1(WACCM) CMCC-CESM CMCC-CM CMCC-CMS CNRM-CM5 CSIRO-Mk3.6.0 CanESM2 EC-EARTH FGOALS-s2 FGOALS_g2 FIO-ESM GFDL-CM3 GFDL-ESM2G GFDL-ESM2M GISS-E2-H GISS-E2-H-CC GISS-E2-R GISS-E2-R-CC HadGEM2-AO HadGEM2-CC HadGEM2-ES IPSL-CM5A-LR IPSL-CM5A-MR IPSL-CM5B-LR MIROC-ESM MIROC-ESM-CHEM MIROC5 MPI-ESM-LR MPI-ESM-MR MRI-CGCM3 MRI-ESM1 NorESM1-M NorESM1-ME inmcm4 \r\n",
      "\r\n",
      "A total of 100 unique model-member combinations are available.\r\n",
      "\r\n",
      "  26 model/s have 1 member/s:\r\n",
      "\r\n",
      "     ACCESS1.0: r1i1p1\r\n",
      "     ACCESS1.3: r1i1p1\r\n",
      "     BCC-CSM1.1: r1i1p1\r\n",
      "     BCC-CSM1.1(m): r1i1p1\r\n",
      "     BNU-ESM: r1i1p1\r\n",
      "     CESM1(BGC): r1i1p1\r\n",
      "     CMCC-CESM: r1i1p1\r\n",
      "     CMCC-CM: r1i1p1\r\n",
      "     CMCC-CMS: r1i1p1\r\n",
      "     FGOALS_g2: r1i1p1\r\n",
      "     GFDL-CM3: r1i1p1\r\n",
      "     GFDL-ESM2G: r1i1p1\r\n",
      "     GFDL-ESM2M: r1i1p1\r\n",
      "     GISS-E2-H-CC: r1i1p1\r\n",
      "     GISS-E2-R-CC: r1i1p1\r\n",
      "     HadGEM2-AO: r1i1p1\r\n",
      "     IPSL-CM5A-MR: r1i1p1\r\n",
      "     IPSL-CM5B-LR: r1i1p1\r\n",
      "     MIROC-ESM: r1i1p1\r\n",
      "     MIROC-ESM-CHEM: r1i1p1\r\n",
      "     MPI-ESM-MR: r1i1p1\r\n",
      "     MRI-CGCM3: r1i1p1\r\n",
      "     MRI-ESM1: r1i1p1\r\n",
      "     NorESM1-M: r1i1p1\r\n",
      "     NorESM1-ME: r1i1p1\r\n",
      "     inmcm4: r1i1p1\r\n",
      "\r\n",
      "  7 model/s have 3 member/s:\r\n",
      "\r\n",
      "     CESM1(CAM5): r1i1p1, r2i1p1, r3i1p1\r\n",
      "     CESM1(WACCM): r2i1p1, r3i1p1, r4i1p1\r\n",
      "     FGOALS-s2: r1i1p1, r2i1p1, r3i1p1\r\n",
      "     FIO-ESM: r1i1p1, r2i1p1, r3i1p1\r\n",
      "     HadGEM2-CC: r1i1p1, r2i1p1, r3i1p1\r\n",
      "     MIROC5: r1i1p1, r2i1p1, r3i1p1\r\n",
      "     MPI-ESM-LR: r1i1p1, r2i1p1, r3i1p1\r\n",
      "\r\n",
      "  2 model/s have 4 member/s:\r\n",
      "\r\n",
      "     HadGEM2-ES: r1i1p1, r2i1p1, r3i1p1, r4i1p1\r\n",
      "     IPSL-CM5A-LR: r1i1p1, r2i1p1, r3i1p1, r4i1p1\r\n",
      "\r\n",
      "  4 model/s have 5 member/s:\r\n",
      "\r\n",
      "     CNRM-CM5: r10i1p1, r1i1p1, r2i1p1, r4i1p1, r6i1p1\r\n",
      "     CanESM2: r1i1p1, r2i1p1, r3i1p1, r4i1p1, r5i1p1\r\n",
      "     GISS-E2-H: r1i1p1, r1i1p2, r1i1p3, r2i1p1, r2i1p3\r\n",
      "     GISS-E2-R: r1i1p1, r1i1p2, r1i1p3, r2i1p1, r2i1p3\r\n",
      "\r\n",
      "  1 model/s have 6 member/s:\r\n",
      "\r\n",
      "     CCSM4: r1i1p1, r2i1p1, r3i1p1, r4i1p1, r5i1p1, r6i1p1\r\n",
      "\r\n",
      "  1 model/s have 9 member/s:\r\n",
      "\r\n",
      "     EC-EARTH: r11i1p1, r12i1p1, r13i1p1, r1i1p1, r2i1p1, r6i1p1, r7i1p1, r8i1p1, r9i1p1\r\n",
      "\r\n",
      "  1 model/s have 10 member/s:\r\n",
      "\r\n",
      "     CSIRO-Mk3.6.0: r10i1p1, r1i1p1, r2i1p1, r3i1p1, r4i1p1, r5i1p1, r6i1p1, r7i1p1, r8i1p1, r9i1p1\r\n",
      "\r\n",
      "\r\n"
     ]
    }
   ],
   "source": [
    "!clef --local cmip5 -v pr -e rcp85 -t Amon --stats"
   ]
  },
  {
   "cell_type": "markdown",
   "metadata": {},
   "source": [
    "### Errata and ESDOC"
   ]
  },
  {
   "cell_type": "markdown",
   "metadata": {},
   "source": [
    "Another new features are functions that retrieve errata associated to a file and the documents available in the ESDOC system.<br>\n",
    "We are still working to make these accessible from the command line and also to add tracking_ids to our query outputs.<br>\n",
    "In the meantime you can load them and use them after having retrieve the tracking_id attribute in another way (for example with a simple nc_dump or via xarray if in python).<br>\n",
    "Let's start from the errata:"
   ]
  },
  {
   "cell_type": "code",
   "execution_count": null,
   "metadata": {
    "scrolled": true
   },
   "outputs": [],
   "source": [
    "from clef.esdoc import *\n",
    "tracking_id = 'hdl:21.14100/a2c2f719-6790-484b-9f66-392e62cd0eb8'\n",
    "error_ids = errata(tracking_id)\n",
    "for eid in error_ids:\n",
    "    print_error(eid)"
   ]
  },
  {
   "cell_type": "markdown",
   "metadata": {},
   "source": [
    "As you can see I've chosen a tracking_id that was associated to some errata. First I use the **errata()** function to retrieve any associated error_ids and then I print out the result using the **print_error()** function.<br>\n",
    "This first retrieve the message associted to any error_id and then prints it in a human readable form, including the url for the original error report.<br><br>\n",
    "Let's now have a look at how to retrieve and print some documentation from ESDOC."
   ]
  },
  {
   "cell_type": "code",
   "execution_count": null,
   "metadata": {
    "scrolled": true
   },
   "outputs": [],
   "source": [
    "doc_url = get_doc(dtype='model', name='MIROC6', project='CMIP6')"
   ]
  },
  {
   "cell_type": "markdown",
   "metadata": {},
   "source": [
    "This time we can use directly one function **get_doc()**. It gets three arguments:\n",
    "  * the kind of document, can be model, experiment or mip;\n",
    "  * the name of the model, experiment or mip;\n",
    "  * project for which I want to retrieve the document, by default this is CMIP6.<br><br>\n",
    "It will retrieve the document online and print out a summary.<br>\n",
    "It will also return the url for the full document report, shown below."
   ]
  },
  {
   "cell_type": "code",
   "execution_count": null,
   "metadata": {
    "scrolled": true
   },
   "outputs": [],
   "source": [
    "print(doc_url)"
   ]
  },
  {
   "cell_type": "markdown",
   "metadata": {},
   "source": [
    "ESDOC works only for CMIP6 and newer ESGF datasets. The World data Center for Climate (WDCC) website holds documentation for both CMIP6 and CMIP5, the **get_wdcc()** function access these documents. In this case rather than the type of document you have to use the datset_id to retrieve the information.<br>"
   ]
  },
  {
   "cell_type": "code",
   "execution_count": null,
   "metadata": {
    "scrolled": true
   },
   "outputs": [],
   "source": [
    "doc_url, response = get_wdcc('cmip5.output1.MIROC.MIROC5.historical.mon.atmos.Amon.r1i1p1.v20111028')\n",
    "print(doc_url)\n",
    "print(response['response']['docs'])"
   ]
  },
  {
   "cell_type": "markdown",
   "metadata": {},
   "source": [
    "We are still working to add a function that will give a formatted print of the wdcc documents as for the the ESDOC ones."
   ]
  },
  {
   "cell_type": "markdown",
   "metadata": {},
   "source": [
    "### More tips on queries"
   ]
  },
  {
   "cell_type": "markdown",
   "metadata": {},
   "source": [
    "#### About experiment_family"
   ]
  },
  {
   "cell_type": "markdown",
   "metadata": {},
   "source": [
    "Experiment_family is a facet present only for CMIP5, it allows you to select all the experiments following in the same category. The correspondent in CMIP6 is activity. However, not all experiments belong to a family and searching for both experiment and experiment_family at the same time can give unexpected results.<br>\n",
    "Let's look at an example, if I want to get all the rcps experiments and historical I might be tempted to pass them as constraints in the same query:"
   ]
  },
  {
   "cell_type": "code",
   "execution_count": null,
   "metadata": {},
   "outputs": [],
   "source": [
    "!clef cmip5 -m CMCC-CM -e historical --experiment_family RCP -t Omon -v tos -en r1i1p1"
   ]
  },
  {
   "cell_type": "markdown",
   "metadata": {},
   "source": [
    "The ESGF query uses an *AND* operator for all the constraints we pass. We couldn't find any matches because both the experiment and experiment_family constraints have to be satiflied. Similarly if we pass rcp45 as experiment as well as the family RCP we will only get the rcp45 results."
   ]
  },
  {
   "cell_type": "code",
   "execution_count": null,
   "metadata": {},
   "outputs": [],
   "source": [
    "!clef cmip5 -m CMCC-CM -e rcp45 --experiment_family RCP -t Omon -v tos -en r1i1p1"
   ]
  },
  {
   "cell_type": "markdown",
   "metadata": {},
   "source": [
    "Finally, it is now possible to use experiment_family also in the local search:"
   ]
  },
  {
   "cell_type": "code",
   "execution_count": null,
   "metadata": {},
   "outputs": [],
   "source": [
    "!clef --local cmip5 -m CMCC-CM --experiment_family RCP -t Omon -v tos -en r1i1p1"
   ]
  },
  {
   "cell_type": "markdown",
   "metadata": {},
   "source": [
    "## Searching for other climate datasets: ds"
   ]
  },
  {
   "cell_type": "markdown",
   "metadata": {},
   "source": [
    "Let's get back to the command line now and have a look at the third command **ds**<br>\n",
    "This command let you query a separate database that contains information on other climate datasets which are available on raijin."
   ]
  },
  {
   "cell_type": "code",
   "execution_count": null,
   "metadata": {},
   "outputs": [],
   "source": [
    "!clef ds --help"
   ]
  },
  {
   "cell_type": "markdown",
   "metadata": {},
   "source": [
    "clef ds  \n",
    "with no other argument will return a list of the local datasets available in the database.<br>\n",
    "NB this is not an exhaustive list of the climate collections at NCI and not all the datasets already in the database have been completed."
   ]
  },
  {
   "cell_type": "code",
   "execution_count": null,
   "metadata": {},
   "outputs": [],
   "source": [
    "!clef ds"
   ]
  },
  {
   "cell_type": "markdown",
   "metadata": {},
   "source": [
    "If you specify any of the variable options then the query will return a list of variables rather then datasets.\n",
    "Since variables can be named differently among datasets, using the *standard_name* or *cmor_name* options to identify them is the best option."
   ]
  },
  {
   "cell_type": "code",
   "execution_count": null,
   "metadata": {
    "scrolled": true
   },
   "outputs": [],
   "source": [
    "!clef ds -f netcdf --standard-name air_temperature"
   ]
  },
  {
   "cell_type": "markdown",
   "metadata": {},
   "source": [
    "This returns all the variable available as netcdf files and with air_temperature as standard_name.<br>\n",
    "NB for each variable a path structure is returned."
   ]
  },
  {
   "cell_type": "code",
   "execution_count": null,
   "metadata": {},
   "outputs": [],
   "source": [
    "!clef ds -f netcdf --cmor-name ta"
   ]
  },
  {
   "cell_type": "markdown",
   "metadata": {},
   "source": [
    "This returns a subset of the previous query using the cmor_name to clearly identify one kind of air_temperature."
   ]
  }
 ],
 "metadata": {
  "kernelspec": {
   "display_name": "Python [conda env:analysis3-20.07] *",
   "language": "python",
   "name": "conda-env-analysis3-20.07-py"
  },
  "language_info": {
   "codemirror_mode": {
    "name": "ipython",
    "version": 3
   },
   "file_extension": ".py",
   "mimetype": "text/x-python",
   "name": "python",
   "nbconvert_exporter": "python",
   "pygments_lexer": "ipython3",
   "version": "3.7.8"
  }
 },
 "nbformat": 4,
 "nbformat_minor": 2
}
