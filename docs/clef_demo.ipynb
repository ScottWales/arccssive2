{
 "cells": [
  {
   "cell_type": "markdown",
   "metadata": {},
   "source": [
    "# Using CleF - Climate Finder to discover ESGF data at NCI"
   ]
  },
  {
   "cell_type": "markdown",
   "metadata": {},
   "source": [
    "This notebook shows examples of how to use the CleF (Climate Finder) python module to search for ESGF data on the NCI server. <br>\n",
    "Currently the tool is set up for CMIP5, CMIP6 and CORDEX data. <br> \n",
    "\n",
    "CleF is currently installed in the CMS conda module analysis3, or analysis3-unstable for the latest version. This is managed by the CMS and is available simply by running\n",
    "  >  module use /g/data3/hh5/public/modules <br>\n",
    "  >  module load conda/analysis3\n",
    "\n",
    "You need to be a member of hh5 to use the modules and of one of the CMIP projects: oi10,rr3, fs38, al33 to access the data and the clef database.<br><br>\n",
    "You could use the module interactively, for the moment we will use its command line options. <br>\n",
    "Let's start!"
   ]
  },
  {
   "cell_type": "markdown",
   "metadata": {},
   "source": [
    "## Command syntax"
   ]
  },
  {
   "cell_type": "code",
   "execution_count": null,
   "metadata": {},
   "outputs": [],
   "source": [
    "# run this if you haven't done so already in the terminal\n",
    "#!module use /g/data3/hh5/public/modules\n",
    "#!module load conda/analysis3-unstable"
   ]
  },
  {
   "cell_type": "code",
   "execution_count": null,
   "metadata": {
    "scrolled": true
   },
   "outputs": [],
   "source": [
    "!clef"
   ]
  },
  {
   "cell_type": "markdown",
   "metadata": {},
   "source": [
    "By simpling running the command **clef** with no arguments, the tool shows the help message and then exits, basically it is equivalent to \n",
    "> clef --help <br>\n",
    "\n",
    "We can see currently there are 4 sub-commands, **ds** to query non-ESGF collections and one for each ESGF dataset: **cmip5**, **cordex** and **cmip6**.  <br>\n",
    "There are also five different options that can be passed before the sub-commands, one we have already seen is `--help`. The others are used to modify how the tool will deal with the main query output. We will have a look at them and at **ds** later. <br>\n",
    "Let's start from quering some CMIP5 data, to see what we can pass to the **cmip5** sub-command we can simply run it with its `--help` option."
   ]
  },
  {
   "cell_type": "markdown",
   "metadata": {},
   "source": [
    "## CMIP5"
   ]
  },
  {
   "cell_type": "code",
   "execution_count": null,
   "metadata": {
    "scrolled": true
   },
   "outputs": [],
   "source": [
    "!clef cmip5 --help"
   ]
  },
  {
   "cell_type": "markdown",
   "metadata": {},
   "source": [
    "### Passing arguments and options"
   ]
  },
  {
   "cell_type": "markdown",
   "metadata": {},
   "source": [
    "The `--help` shows all the constraints we can pass to the tool, there are also some additional options which can change the way we run our query. For the moment we can ignore these and use their default values. <br>\n",
    "Some of the constraints can be passed using an abbreviation,like `-v` instead of `--variable`. This is handy once you are more familiar with the tool. <br>\n",
    "The same option can have more than one name, for example `--ensemble` can also be passed as `--member`, this is because the terminology has changed between CMIP5 and CMIP6. <br>\n",
    "You can pass how many constraints you want and pass the same constraint more than once. Let's see what happens though if we do not pass any constraint."
   ]
  },
  {
   "cell_type": "code",
   "execution_count": null,
   "metadata": {},
   "outputs": [],
   "source": [
    "!clef cmip5"
   ]
  },
  {
   "cell_type": "code",
   "execution_count": null,
   "metadata": {},
   "outputs": [],
   "source": [
    "!clef cmip5 --variable tasmin --experiment historical --table day --ensemble r2i1p1s"
   ]
  },
  {
   "cell_type": "markdown",
   "metadata": {},
   "source": [
    "Oops that wasn't reasonable! I mispelled the ensemble \"r2i1p1s\" does not exists and the tool is telling me it cannot find any matches."
   ]
  },
  {
   "cell_type": "code",
   "execution_count": null,
   "metadata": {},
   "outputs": [],
   "source": [
    "!clef cmip5 --variable tasmin --experiment historical --table days --ensemble r2i1p1"
   ]
  },
  {
   "cell_type": "markdown",
   "metadata": {},
   "source": [
    "Made another spelling mistake, in this case the tool knows that I passed a wrong value and lists for me all the available options for the CMOR table. Eventually we are aiming to validate all the arguments we can, although for some it is no possible to pass all the possible values (ensemble for example)."
   ]
  },
  {
   "cell_type": "code",
   "execution_count": null,
   "metadata": {
    "scrolled": false
   },
   "outputs": [],
   "source": [
    "!clef cmip5 --variable tasmin --experiment historical --table day --ensemble r2i1p1"
   ]
  },
  {
   "cell_type": "markdown",
   "metadata": {},
   "source": [
    "The tool first search on the ESGF for all the files that match the constraints we passed. It then looks for these file locally and if it finds them it returns their path on raijin.\n",
    "For all the files it can't find locally, the tool check an NCI table listing the downloads they are working on. Finally it lists missing datasets which are in the download queue, followed by the datasets that are not available locally and no one has yet requested. <br>\n",
    "\n",
    "The tool list the datasets paths and dataset_ids, we used to have a `--format file` option but this has been removed in most recent versions. <br>\n",
    "\n",
    "The query by default returns the latest available version. What if we want to have a look at all the available versions?"
   ]
  },
  {
   "cell_type": "code",
   "execution_count": null,
   "metadata": {
    "scrolled": true
   },
   "outputs": [],
   "source": [
    "!clef cmip5 --variable clivi --experiment historical --table Amon -m ACCESS1.0 --all-versions"
   ]
  },
  {
   "cell_type": "markdown",
   "metadata": {},
   "source": [
    "The option `--all-versions` is the reverse of `--latest`, which is also the default, so we get a list of all available versions. <br>\n",
    "Since all the ACCESS1.0 data is available on NCI (which is the authoritative source for the ACCESS models) the tool shouldn't find any missing datasets, if it does please let us know about it."
   ]
  },
  {
   "cell_type": "markdown",
   "metadata": {},
   "source": [
    "## CORDEX"
   ]
  },
  {
   "cell_type": "code",
   "execution_count": null,
   "metadata": {},
   "outputs": [],
   "source": [
    "!clef cordex --help"
   ]
  },
  {
   "cell_type": "markdown",
   "metadata": {},
   "source": [
    "**cordex** works in the same way but some constraints are specific to its experiment design.<br>\n",
    "These are the cordex `domain`, `rcm_name`, `rcm_version` for the regional model, and the `driving_model` and `driving_experiment` for the driving model.<br>\n",
    "CORDEX also does not use tables so you always have to use f`--frequency` to select different timesteps. "
   ]
  },
  {
   "cell_type": "code",
   "execution_count": null,
   "metadata": {},
   "outputs": [],
   "source": [
    "!clef cordex -v tas -e historical -dmod CSIRO-BOM-ACCESS1-3 -en r1i1p1 -f mon"
   ]
  },
  {
   "cell_type": "markdown",
   "metadata": {},
   "source": [
    "## CMIP6"
   ]
  },
  {
   "cell_type": "code",
   "execution_count": null,
   "metadata": {
    "scrolled": true
   },
   "outputs": [],
   "source": [
    "!clef cmip6 --help"
   ]
  },
  {
   "cell_type": "markdown",
   "metadata": {},
   "source": [
    "The **cmip6** sub-command works in the same way but some constraints are different. As well as changes in terminology CMIP6 has more attributes (*facets*) that can be used to select the data. <br>\n",
    "Examples of these are the **activity** which groups experiments, **resolution** which is an approximation of the actual resolution and **grid**."
   ]
  },
  {
   "cell_type": "markdown",
   "metadata": {},
   "source": [
    "### Controlling the ouput: clef options"
   ]
  },
  {
   "cell_type": "code",
   "execution_count": null,
   "metadata": {
    "scrolled": true
   },
   "outputs": [],
   "source": [
    "!clef --local cmip6 -e 1pctCO2 -t Amon -v tasmax -v tasmin -g gr"
   ]
  },
  {
   "cell_type": "markdown",
   "metadata": {},
   "source": [
    "In this example we used the `--local` option for the main command **clef** to get only the local matching data path as output. <br> \n",
    "Note also that:\n",
    "- we are using abbreviations for the options where available; \n",
    "- we are passing the variable `-v` option twice; \n",
    "- we used the CMIP6 specific option `-g/--grid` to search for all data that is not on the model native grid. This doesn't indicate a grid common to all the CMIP6 output only to the model itself, the same is true for member_id and other attributes.<br>\n",
    "\n",
    "`--local` is actually executing the query directly on the NCI clef.nci.org.au database, which is different from the default query where the search is executed first on the ESGF and then its results are matched locally.<br>\n",
    "In the example above the final result is exactly the same, whichever way we perform the query. This way of searching can give you more results if a node is offline or if a version have been unpublished from the ESGF but is still available locally."
   ]
  },
  {
   "cell_type": "code",
   "execution_count": null,
   "metadata": {
    "scrolled": false
   },
   "outputs": [],
   "source": [
    "!clef --missing cmip6 -e 1pctCO2 -v clw -v clwvi -t Amon -g gr"
   ]
  },
  {
   "cell_type": "markdown",
   "metadata": {},
   "source": [
    "This time we used the `--missing` option and the tool returned only the results matching the constraints that are available on the ESGF but not locally (we changed variables to make sure to get some missing data back)."
   ]
  },
  {
   "cell_type": "code",
   "execution_count": null,
   "metadata": {
    "scrolled": true
   },
   "outputs": [],
   "source": [
    "!clef --remote cmip6 -e 1pctCO2 -v tasmin -t Amon -g gr"
   ]
  },
  {
   "cell_type": "markdown",
   "metadata": {},
   "source": [
    "The `--remote` option returns the Dataset_ids of the data matching the constraints, regardless that they are available locally or not."
   ]
  },
  {
   "cell_type": "markdown",
   "metadata": {},
   "source": [
    "Please note that `--local`, `--remote` and `--missing` together with `--request`, which we will look at next, are all options of the main command **clef** and they need to come before any sub-commands."
   ]
  },
  {
   "cell_type": "markdown",
   "metadata": {},
   "source": [
    "## Requesting new data"
   ]
  },
  {
   "cell_type": "markdown",
   "metadata": {},
   "source": [
    "What should we do if we found out there is some data we are interested to that has not been downloaded or requested yet? <br>\n",
    "This is a complex data collection, NCI, in consultation with the community, decided the best way to manage it was to have one point of reference. Part of this agreement is that NCI will download the files and update the database that **clef** is interrrogating. After consultation with the community a priority list was decided and NCI has started downloading anything that falls into it as soon as become available. <br> <br>\n",
    "Users can then request from the NCI helpdesk, other combinations of variables, experiments etc that do not fall into this list. <br>\n",
    "The list is available from the NCI climate confluence website: <br>\n",
    "Even without consulting the list you can use **clef**, as we demonstrated above, to search for a particular dataset, if it is not queued or downloaded already **clef** will give you an option to request it from NCI. <br><br>\n",
    "Let's see how it works."
   ]
  },
  {
   "cell_type": "code",
   "execution_count": null,
   "metadata": {
    "scrolled": false
   },
   "outputs": [],
   "source": [
    "%%bash\n",
    "clef --request cmip6 -e 1pctCO2 -v clw -v clwvi -t Amon -g gr\n",
    "no"
   ]
  },
  {
   "cell_type": "markdown",
   "metadata": {},
   "source": [
    "We run the same query which gave us as a result 4 missing datasets but this time we used the `--request` option after **clef**.<br>\n",
    "The tool will execute the query remotely, then look for matches locally and on the NCI download list. Having found none gives as an option of putting in a request. <br>\n",
    "It will accept any of the following as a positive answer:\n",
    "> Y  YES y yes <br>\n",
    "\n",
    "With anything else or if you don't pass anything it will assume you don't want to put in a request.<br>\n",
    "It still saved the request in a file we can use later.<br>"
   ]
  },
  {
   "cell_type": "code",
   "execution_count": null,
   "metadata": {},
   "outputs": [],
   "source": [
    "!head -n 4 CMIP6_*.txt"
   ]
  },
  {
   "cell_type": "markdown",
   "metadata": {},
   "source": [
    "If I answered **yes** the tool would have sent an e-mail to the NCI helpdesk with the text file attached, NCI can pass that file as input to their download tool and queue your request.<br>\n",
    "NB if you are running clef from gadi you cannot send an e-mail so in that case the tool will skip the question and just remind you to send an e-mail to the NCI helpdesk yourself to finalise the request."
   ]
  },
  {
   "cell_type": "markdown",
   "metadata": {},
   "source": [
    "## Integrating the local query in your scripts"
   ]
  },
  {
   "cell_type": "markdown",
   "metadata": {},
   "source": [
    "Until now we looked at how to run queries from the command line, but you can use use the same query run by the `--local` option directly in your python code. By doing so you also get access to a lot more information on the datasets returned not only the path.<br>\n",
    "To do so we have first to import some functions from the clef.code sub-module. In particular the **search( )** function and **connect( )** and **Session( )** that we'll use to open a connection to the database."
   ]
  },
  {
   "cell_type": "code",
   "execution_count": null,
   "metadata": {},
   "outputs": [],
   "source": [
    "from clef.code import *\n",
    "db = connect()\n",
    "s = Session()"
   ]
  },
  {
   "cell_type": "markdown",
   "metadata": {},
   "source": [
    "### Running search( )"
   ]
  },
  {
   "cell_type": "markdown",
   "metadata": {},
   "source": [
    "**search( )** takes 4 inputs: the db session, the project (i.e. currently 'CMIP5', 'CORDEX' or 'CMIP6'), latest (True or False) and a dictionary containing the query constraints:\n",
    "> search(session, project='CMIP5', latest=True, **kwargs)<br>\n",
    "\n",
    "Let's start by defining some constraints."
   ]
  },
  {
   "cell_type": "code",
   "execution_count": null,
   "metadata": {},
   "outputs": [],
   "source": [
    "constraints = {'variable': 'tas', 'model': 'MIROC5', 'cmor_table': 'day', 'experiment': 'rcp85'}"
   ]
  },
  {
   "cell_type": "markdown",
   "metadata": {},
   "source": [
    "The available keys depend on the project you are querying and the attributes stored by the database. You can use any of the *facets* used for ESGF but in future we will be adding other options based on extra fields which are stored as attributes."
   ]
  },
  {
   "cell_type": "code",
   "execution_count": null,
   "metadata": {},
   "outputs": [],
   "source": [
    "results = search(s, project='CMIP5', **constraints)\n",
    "results"
   ]
  },
  {
   "cell_type": "markdown",
   "metadata": {},
   "source": [
    "The **search( )** function returns a pandas dataframe where every match to the constraints is a row.<br>\n",
    "\n",
    "Both the keys and values of the constraints get checked before being passed to the query function. This means that if you passed a key or a value that doesn't exist for the chosen project, the function will print a list of valid values and then exit.<br>\n",
    "Let's rewrite the constraints dictionary to show an example."
   ]
  },
  {
   "cell_type": "code",
   "execution_count": null,
   "metadata": {
    "scrolled": false
   },
   "outputs": [],
   "source": [
    "constraints = {'v': 'tas', 'm': 'MIROC5', 'table': 'day', 'experiment': 'rcp85', 'activity': 'CMIP'}\n",
    "results = search(s, **constraints)"
   ]
  },
  {
   "cell_type": "markdown",
   "metadata": {},
   "source": [
    "You can see that the function told us `activity` is not a valid constraints for CMIP5, in fact that can be used only with CMIP6<br>\n",
    "NB. that the search accepted all the other abbreviations, there's a few terms that can be used for each key.<br>\n",
    "The full list of valid keys is available from from the github repository:<br>\n",
    "https://github.com/coecms/clef/blob/master/clef/data/valid_keys.json"
   ]
  },
  {
   "cell_type": "code",
   "execution_count": null,
   "metadata": {},
   "outputs": [],
   "source": [
    "constraints = {'v': 'tas', 'm': 'MIROC5', 'table': 'day', 'experiment': 'rcp85', 'member': 'r1i1p1'}\n",
    "results = search(s, **constraints)\n",
    "results.iloc[0,:]"
   ]
  },
  {
   "cell_type": "markdown",
   "metadata": {},
   "source": [
    "NB that `project` is by default 'CMIP5' so it can be omitted when querying CMIP5 data and `latest` is True by default. Set this to *False* if you want to return all the available versions."
   ]
  },
  {
   "cell_type": "markdown",
   "metadata": {},
   "source": [
    "#### Running search() for different sets of attributes"
   ]
  },
  {
   "cell_type": "markdown",
   "metadata": {},
   "source": [
    "The **search()** function works for one set of attributes, you can specify only one value for each of the attributes at one time. If you want to run a query for two or more different sets of attributes you can call **search()** in a loop. <br>\n",
    "If you have a small numbers of queries then this is easy to implement and run. To make **search()** works for a random number of inputs passed by the command line we set up a function **call_local_query()** that deals with this more efficiently.<br>\n",
    "The arguments are very similar to **search()** with the important difference that we are passing list of values instead of strings:<br>\n",
    ">call_local_query(s, project, oformat, latest, **kwargs)\n",
    "\n",
    "Let's look at an example:"
   ]
  },
  {
   "cell_type": "code",
   "execution_count": null,
   "metadata": {},
   "outputs": [],
   "source": [
    "constraints = {'variable': ['tasmin','tasmax'], 'model': ['MIROC5','MIROC4h'],\n",
    "               'cmor_table': ['day'], 'experiment': ['rcp85'], 'ensemble': ['r1i1p1']}\n",
    "results, paths = call_local_query(s, project='CMIP5', latest=True, **constraints)"
   ]
  },
  {
   "cell_type": "markdown",
   "metadata": {},
   "source": [
    "Because this function was created to deliver results for the command line local query option, as well as the list of results, it also outputs a list of their paths. Under the hood this function works out all the combinations of the arguments you passed and will run **search()** for each of them, before doing so will also run other functions that check that the values and keys passed to the function are valid.<br><br>\n",
    "The extra argument `latest` is necessary to resolve the command line `--latest` option."
   ]
  },
  {
   "cell_type": "markdown",
   "metadata": {},
   "source": [
    "### AND Filter"
   ]
  },
  {
   "cell_type": "markdown",
   "metadata": {},
   "source": [
    "We started adding additional features to CleF which allows more complex queries. We started from the following case.\n",
    "Let's say that you want to find all the CMIP6 models that have both daily precipitation (pr) and soil moisture (mrso) for a particular experiment(historical). Up to now you would had to select separately both variables and then work out which models had both on your own."
   ]
  },
  {
   "cell_type": "markdown",
   "metadata": {},
   "source": [
    "We will show how this work starting by using the actual function interactively. There is also a command line option but it returns only a list of the models.<br>\n",
    "First of all, since we are potentially passing more than one value to the query we are using lists in our *constraints* dictionary.<br>\n",
    "Then we need to define the attributes for which we want all values to be present, only `variable_id` in this case.\n",
    "Finally we tell the function which attributes define a simulation, this would most often be `model` and `member`."
   ]
  },
  {
   "cell_type": "code",
   "execution_count": null,
   "metadata": {
    "scrolled": true
   },
   "outputs": [],
   "source": [
    "constraints = {'variable_id': ['pr','mrso'], 'frequency': ['mon'], 'experiment_id': ['historical']}\n",
    "allvalues = ['variable_id']\n",
    "fixed = ['source_id', 'member_id']\n",
    "results, selection = matching(s, allvalues, fixed, project='CMIP6', **constraints)"
   ]
  },
  {
   "cell_type": "markdown",
   "metadata": {},
   "source": [
    "The function returns the selected models/members combinations that have both variables and the corresponding subset of the original query *results*.<br>\n",
    "NB currently using the abbreviated version for the constraints keys won't work, you will have to use the attributes full names.<br><br>\n",
    "You can see by printing the length of both lists and one of the first item of *selection* that the results have been grouped by models/ensembles and then filtered."
   ]
  },
  {
   "cell_type": "code",
   "execution_count": null,
   "metadata": {},
   "outputs": [],
   "source": [
    "print(len(results),len(selection))\n",
    "selection.iloc[0,:]"
   ]
  },
  {
   "cell_type": "markdown",
   "metadata": {},
   "source": [
    "The full definition the **matching()** shows all the function arguments:<br>\n",
    ">matching(session, cols, fixed, project='CMIP5', local=True, latest=True, **kwargs)\n",
    "\n",
    "From this you can see that like **search()**  by default `project` is 'CMIP5' and `latest` is True. We didn't have to use yet the `local` argument which is True by default, we will see examples later where is set to False so we can do the same query remotely."
   ]
  },
  {
   "cell_type": "markdown",
   "metadata": {},
   "source": [
    "#### AND filter on more than one attribute"
   ]
  },
  {
   "cell_type": "markdown",
   "metadata": {},
   "source": [
    "We can pass more than value for more than one attribute, let's add *piControl* to the experiment list."
   ]
  },
  {
   "cell_type": "code",
   "execution_count": null,
   "metadata": {
    "scrolled": true
   },
   "outputs": [],
   "source": [
    "constraints = {'variable_id': ['pr','mrso'], 'frequency': ['mon'], 'experiment_id': ['historical', 'piControl']}\n",
    "results, selection = matching(s, allvalues, fixed, project='CMIP6', **constraints)\n",
    "print(len(results),len(selection))\n",
    "selection.iloc[0,:]"
   ]
  },
  {
   "cell_type": "markdown",
   "metadata": {},
   "source": [
    "As you can see we get now many more results but only a few more combinations after applying the filter.<br>\n",
    "This is because we are still defining a simulation by using model and member combinations we haven't included experiment and the results for the two experiments are grouped together, to fix this we need to add `experiment_id` to the *fixed* list."
   ]
  },
  {
   "cell_type": "code",
   "execution_count": null,
   "metadata": {
    "scrolled": true
   },
   "outputs": [],
   "source": [
    "fixed = ['source_id', 'member_id','experiment_id']\n",
    "results, selection = matching(s, allvalues, fixed, project='CMIP6', **constraints)\n",
    "print(len(results),len(selection))\n",
    "selection.iloc[0,:]"
   ]
  },
  {
   "cell_type": "markdown",
   "metadata": {},
   "source": [
    "If we wanted to find all models/members combinations which have both variables and both experiments, then we should have kept *fixed* as it was and add `experiment_id` to the *allvalues* list instead."
   ]
  },
  {
   "cell_type": "code",
   "execution_count": null,
   "metadata": {
    "scrolled": true
   },
   "outputs": [],
   "source": [
    "allvalues = ['variable_id', 'experiment_id']\n",
    "fixed=['source_id','member_id']\n",
    "results, selection = matching(s, allvalues, fixed, project='CMIP6', **constraints)\n",
    "print(len(results),len(selection))\n",
    "selection.iloc[0,:]"
   ]
  },
  {
   "cell_type": "markdown",
   "metadata": {},
   "source": [
    "#### AND filter applied to remote ESGF query"
   ]
  },
  {
   "cell_type": "markdown",
   "metadata": {},
   "source": [
    "You can of course do the same query for CMIP5, in that case you can omit `project` when calling the function since its default value is 'CMIP5'.<br>\n",
    "Another default option is *local=True*, this says the function to perfom this query directly on the local database if you want you can perform the same query on the ESGF database, so you can see what has been published."
   ]
  },
  {
   "cell_type": "code",
   "execution_count": null,
   "metadata": {
    "scrolled": true
   },
   "outputs": [],
   "source": [
    "constraints = {'variable': ['tasmin','tasmax'], 'cmor_table': ['Amon'], 'experiment': ['historical','rcp26', 'rcp85']}\n",
    "allvalues = ['variable', 'experiment']\n",
    "fixed=['model','ensemble']\n",
    "results, selection = matching(s, allvalues, fixed, local=False, **constraints)\n",
    "print(len(results),len(selection))\n",
    "selection.iloc[0,:]"
   ]
  },
  {
   "cell_type": "markdown",
   "metadata": {},
   "source": [
    "Please note how I used different attributes names because we are querying CMIP5 now. <br>\n",
    "`comb` highlights all the combinations that have to be present for a model/ensemble to be returned while we are getting a `dataset_id` rather than a directory path."
   ]
  },
  {
   "cell_type": "markdown",
   "metadata": {},
   "source": [
    "#### AND filter on the command line"
   ]
  },
  {
   "cell_type": "markdown",
   "metadata": {},
   "source": [
    "The command line version of **matching** can be called using the `--and` flag followed by the attribute for which we want all values, the flag can be used more than once. By default model/ensemble combinations define a simulation, and only model, ensemble and version are returned as final result."
   ]
  },
  {
   "cell_type": "code",
   "execution_count": null,
   "metadata": {},
   "outputs": [],
   "source": [
    "!clef --local cmip5 -v tasmin -v tasmax -e rcp26 -e rcp85 -e historical -t Amon --and variable"
   ]
  },
  {
   "cell_type": "markdown",
   "metadata": {},
   "source": [
    "The same will work for `--remote` and *cmip6*"
   ]
  },
  {
   "cell_type": "code",
   "execution_count": null,
   "metadata": {
    "scrolled": true
   },
   "outputs": [],
   "source": [
    "!clef --remote cmip6 -v pr -v mrso -e piControl  -mi r1i1p1f1 --frequency mon --and variable_id"
   ]
  },
  {
   "cell_type": "markdown",
   "metadata": {},
   "source": [
    "## Other features"
   ]
  },
  {
   "cell_type": "markdown",
   "metadata": {},
   "source": [
    "### CSV file output"
   ]
  },
  {
   "cell_type": "markdown",
   "metadata": {},
   "source": [
    "The `--csv` option added to the command line will output the query results in a csv file. Rather than getting only the files path, it will list all the available attributes.<br>\n",
    "This currently works only with the `--local` and `--remote` option, it doesn't yet work for the standard search, which is basically a combination of the two."
   ]
  },
  {
   "cell_type": "code",
   "execution_count": null,
   "metadata": {},
   "outputs": [],
   "source": [
    "!clef --local cmip5 -v pr -v tas -e piControl  -en r1i1p1 -t Amon --csv"
   ]
  },
  {
   "cell_type": "code",
   "execution_count": null,
   "metadata": {},
   "outputs": [],
   "source": [
    "!head -n 4 CMIP5_query.csv"
   ]
  },
  {
   "cell_type": "markdown",
   "metadata": {},
   "source": [
    "In the first example I am passing `--csv` to a CMIP5 query with the `--local` option set.<br> \n",
    "I am hiding the cell output but the tool still prints the results on the display as well as creating the csv file.<br>\n",
    "The following example demonstrate how `--csv` works also for remote CMIP6 queries and with the flag `--and` which allows for more complex filtering of the data and that we haven't looked at yet."
   ]
  },
  {
   "cell_type": "code",
   "execution_count": null,
   "metadata": {},
   "outputs": [],
   "source": [
    "!clef --remote cmip6 -v pr -v mrso -e piControl  -mi r1i1p1f1 --frequency mon --and variable_id --csv"
   ]
  },
  {
   "cell_type": "code",
   "execution_count": null,
   "metadata": {},
   "outputs": [],
   "source": [
    "!head -n 4 CMIP6_query.csv"
   ]
  },
  {
   "cell_type": "markdown",
   "metadata": {},
   "source": [
    "### Query summary option"
   ]
  },
  {
   "cell_type": "markdown",
   "metadata": {},
   "source": [
    "The `--stats` option added to the command line will print a summary of the query results<br>\n",
    "It works for both `--local` and `--remote` options, but not with the default query.<br>\n",
    "Currently it prints the following:\n",
    "* total number of models, followed by their names\n",
    "* total number of unique model-ensembles/members combinations\n",
    "* number of models that have N ensembles/members, followed by their names"
   ]
  },
  {
   "cell_type": "code",
   "execution_count": null,
   "metadata": {},
   "outputs": [],
   "source": [
    "!clef --local cmip5 -v pr -e rcp85 -t Amon --stats"
   ]
  },
  {
   "cell_type": "markdown",
   "metadata": {},
   "source": [
    "### Errata and ESDOC"
   ]
  },
  {
   "cell_type": "markdown",
   "metadata": {},
   "source": [
    "Another new features are functions that retrieve errata associated to a file and the documents available in the ESDOC system.<br>\n",
    "We are still working to make these accessible from the command line and also to add tracking_ids to our query outputs.<br>\n",
    "In the meantime you can load them and use them after having retrieve the tracking_id attribute in another way (for example with a simple nc_dump or via xarray if in python).<br>\n",
    "Let's start from the errata:"
   ]
  },
  {
   "cell_type": "code",
   "execution_count": null,
   "metadata": {
    "scrolled": true
   },
   "outputs": [],
   "source": [
    "from clef.esdoc import *\n",
    "tracking_id = 'hdl:21.14100/a2c2f719-6790-484b-9f66-392e62cd0eb8'\n",
    "error_ids = errata(tracking_id)\n",
    "for eid in error_ids:\n",
    "    print_error(eid)"
   ]
  },
  {
   "cell_type": "markdown",
   "metadata": {},
   "source": [
    "As you can see I've chosen a tracking_id that was associated to some errata. First I use the **errata()** function to retrieve any associated error_ids and then I print out the result using the **print_error()** function.<br>\n",
    "This first retrieve the message associated to any error_id and then prints it in a human readable form, including the url for the original error report.<br><br>\n",
    "Let's now have a look at how to retrieve and print some documentation from ESDOC."
   ]
  },
  {
   "cell_type": "code",
   "execution_count": null,
   "metadata": {
    "scrolled": true
   },
   "outputs": [],
   "source": [
    "doc_url = get_doc(dtype='model', name='MIROC6', project='CMIP6')"
   ]
  },
  {
   "cell_type": "markdown",
   "metadata": {},
   "source": [
    "This time we can use directly one function **get_doc()**. It gets three arguments:\n",
    "  * the kind of document, can be model, experiment or mip;\n",
    "  * the name of the model, experiment or mip;\n",
    "  * project for which I want to retrieve the document, by default this is CMIP6.<br><br>\n",
    "It will retrieve the document online and print out a summary.<br>\n",
    "It will also return the url for the full document report, shown below."
   ]
  },
  {
   "cell_type": "code",
   "execution_count": null,
   "metadata": {
    "scrolled": true
   },
   "outputs": [],
   "source": [
    "print(doc_url)"
   ]
  },
  {
   "cell_type": "markdown",
   "metadata": {},
   "source": [
    "ESDOC works only for CMIP6 and newer ESGF datasets. The World data Center for Climate (WDCC) website holds documentation for both CMIP6 and CMIP5, the **get_wdcc()** function access these documents. In this case rather than the type of document you have to use the dataset_id to retrieve the information.<br>"
   ]
  },
  {
   "cell_type": "code",
   "execution_count": null,
   "metadata": {
    "scrolled": false
   },
   "outputs": [],
   "source": [
    "doc_url, response = get_wdcc('cmip5.output1.MIROC.MIROC5.historical.mon.atmos.Amon.r1i1p1.v20111028')\n",
    "print(doc_url)\n",
    "print(response.text)"
   ]
  },
  {
   "cell_type": "markdown",
   "metadata": {},
   "source": [
    "We are still working to add a function that will give a formatted print of the wdcc documents as for the the ESDOC ones."
   ]
  },
  {
   "cell_type": "markdown",
   "metadata": {},
   "source": [
    "### More tips on queries"
   ]
  },
  {
   "cell_type": "markdown",
   "metadata": {},
   "source": [
    "#### About experiment_family"
   ]
  },
  {
   "cell_type": "markdown",
   "metadata": {},
   "source": [
    "`experiment_family` is a facet present only for CMIP5 and CORDEX. It allows you to select all the experiments following in the same category. The correspondent in CMIP6 is `activity`. However, not all experiments belong to a family and searching for both `experiment` and `experiment_family` at the same time can give unexpected results.<br>\n",
    "Let's look at an example, if I want to get all the rcps experiments and historical I might be tempted to pass them as constraints in the same query:"
   ]
  },
  {
   "cell_type": "code",
   "execution_count": null,
   "metadata": {},
   "outputs": [],
   "source": [
    "!clef cmip5 -m CMCC-CM -e historical --experiment_family RCP -t Omon -v tos -en r1i1p1"
   ]
  },
  {
   "cell_type": "markdown",
   "metadata": {},
   "source": [
    "The ESGF query uses an *AND* operator for all the constraints we pass. We couldn't find any matches because both the `experiment` and `experiment_family` constraints have to be satiflied. Similarly if we pass rcp45 as experiment as well as the family RCP we will only get the rcp45 results."
   ]
  },
  {
   "cell_type": "code",
   "execution_count": null,
   "metadata": {},
   "outputs": [],
   "source": [
    "!clef cmip5 -m CMCC-CM -e rcp45 --experiment_family RCP -t Omon -v tos -en r1i1p1"
   ]
  },
  {
   "cell_type": "markdown",
   "metadata": {},
   "source": [
    "Finally, it is now possible to use `experiment_family` also in the local search:"
   ]
  },
  {
   "cell_type": "code",
   "execution_count": null,
   "metadata": {},
   "outputs": [],
   "source": [
    "!clef --local cmip5 -m CMCC-CM --experiment_family RCP -t Omon -v tos -en r1i1p1"
   ]
  },
  {
   "cell_type": "markdown",
   "metadata": {},
   "source": [
    "### Citation list option"
   ]
  },
  {
   "cell_type": "markdown",
   "metadata": {},
   "source": [
    "CleF has functions that retrieve errata associated to a file and the documents available in the ESDOC system.<br> Most of these functionalities are currently working only when you use clef interactively. However, since version 1.2 we added a flag to retrieve citations also using the command line.<br>\n",
    "The `--cite` option added to the command line will create a file containing the citations of all the datasets returned by the query. It retrieves the citation information from the DKRZ WDCC server (https://cera-www.dkrz.de/WDCC). This provides citation information only for CMIP6, so this flag is only available with the **cmip6** sub-command.<br>\n",
    "As for the other flags illustrated above, this option works when you select either `--local` or `--remote` queries."
   ]
  },
  {
   "cell_type": "code",
   "execution_count": null,
   "metadata": {},
   "outputs": [],
   "source": [
    "!clef --remote cmip6 -v clt  -e historical -t day  -mi r1i1p1f1 --cite"
   ]
  },
  {
   "cell_type": "markdown",
   "metadata": {},
   "source": [
    "The citations are listed in a cmip_citations.txt file in the current directory."
   ]
  },
  {
   "cell_type": "code",
   "execution_count": null,
   "metadata": {},
   "outputs": [],
   "source": [
    "! head -n 4 cmip_citations.txt "
   ]
  },
  {
   "cell_type": "markdown",
   "metadata": {},
   "source": [
    "Please note that some of the more recently published datasets might not have citations information available yet on the WDCC server. CleF retrieves the information from different fields and them put them together to form a correct citation in the required format. <br>\n",
    "If some of these fields are not available the citation might be incomplete, so always check the entire file before using it.<br>\n",
    "In particular the part of the citation that includes the doi will be missing."
   ]
  },
  {
   "cell_type": "markdown",
   "metadata": {},
   "source": [
    "## Searching for other climate datasets: ds"
   ]
  },
  {
   "cell_type": "markdown",
   "metadata": {},
   "source": [
    "Let's get back to the command line now and have a look at the third command **ds**<br>\n",
    "This command let you query a separate database that contains information on other climate datasets which are available on raijin."
   ]
  },
  {
   "cell_type": "code",
   "execution_count": null,
   "metadata": {},
   "outputs": [],
   "source": [
    "!clef ds --help"
   ]
  },
  {
   "cell_type": "markdown",
   "metadata": {},
   "source": [
    "clef ds  \n",
    "with no other argument will return a list of the local datasets available in the database.<br>\n",
    "NB this is not an exhaustive list of the climate collections at NCI and not all the datasets already in the database have been completed."
   ]
  },
  {
   "cell_type": "code",
   "execution_count": null,
   "metadata": {},
   "outputs": [],
   "source": [
    "!clef ds"
   ]
  },
  {
   "cell_type": "markdown",
   "metadata": {},
   "source": [
    "If you specify any of the variable options then the query will return a list of variables rather then datasets.\n",
    "Since variables can be named differently among datasets, using the *standard_name* or *cmor_name* options to identify them is the best option."
   ]
  },
  {
   "cell_type": "code",
   "execution_count": null,
   "metadata": {
    "scrolled": true
   },
   "outputs": [],
   "source": [
    "!clef ds -f netcdf --standard-name air_temperature"
   ]
  },
  {
   "cell_type": "markdown",
   "metadata": {},
   "source": [
    "This returns all the variable available as netcdf files and with air_temperature as standard_name.<br>\n",
    "NB for each variable a path structure is returned."
   ]
  },
  {
   "cell_type": "code",
   "execution_count": null,
   "metadata": {},
   "outputs": [],
   "source": [
    "!clef ds -f netcdf --cmor-name ta"
   ]
  },
  {
   "cell_type": "markdown",
   "metadata": {},
   "source": [
    "This returns a subset of the previous query using the cmor_name to clearly identify one kind of air_temperature."
   ]
  }
 ],
 "metadata": {
  "kernelspec": {
   "display_name": "Python [conda env:analysis3-20.10]",
   "language": "python",
   "name": "conda-env-analysis3-20.10-py"
  },
  "language_info": {
   "codemirror_mode": {
    "name": "ipython",
    "version": 3
   },
   "file_extension": ".py",
   "mimetype": "text/x-python",
   "name": "python",
   "nbconvert_exporter": "python",
   "pygments_lexer": "ipython3",
   "version": "3.8.6"
  }
 },
 "nbformat": 4,
 "nbformat_minor": 2
}
